{
 "cells": [
  {
   "cell_type": "code",
   "execution_count": 1,
   "id": "02c69a26",
   "metadata": {},
   "outputs": [
    {
     "name": "stdout",
     "output_type": "stream",
     "text": [
      "Author: Marcos Santana\n",
      "\n",
      "Python implementation: CPython\n",
      "Python version       : 3.8.8\n",
      "IPython version      : 7.22.0\n",
      "\n",
      "fastai       : 2.5.2\n",
      "numpy        : 1.20.1\n",
      "pandas       : 1.2.4\n",
      "torch        : 1.9.0\n",
      "joblib       : 1.0.1\n",
      "guacamol     : 0.5.2\n",
      "fastinference: 0.0.36\n",
      "rdkit        : 2021.03.5\n",
      "tqdm         : 4.59.0\n",
      "\n"
     ]
    }
   ],
   "source": [
    "%reload_ext autoreload\n",
    "%autoreload 2\n",
    "%load_ext watermark\n",
    "%watermark -a 'Marcos Santana' -d -p fastai,numpy,pandas,torch,joblib,guacamol,fastinference,rdkit,tqdm -v"
   ]
  },
  {
   "cell_type": "code",
   "execution_count": 204,
   "id": "dd7fd18b",
   "metadata": {},
   "outputs": [],
   "source": [
    "from rdkit import Chem\n",
    "from rdkit.Chem import Draw\n",
    "from rdkit.Chem import AllChem\n",
    "from fastai.text.all import *\n",
    "\n",
    "import seaborn as sns\n",
    "import matplotlib.pyplot as plt\n",
    "\n",
    "import numpy as np\n",
    "import pandas as pd"
   ]
  },
  {
   "cell_type": "code",
   "execution_count": 116,
   "id": "f01d1048",
   "metadata": {},
   "outputs": [],
   "source": [
    "learn = load_learner('/home/marcossantana/Downloads/export.pkl', cpu=False)"
   ]
  },
  {
   "cell_type": "code",
   "execution_count": 4,
   "id": "d951088d",
   "metadata": {
    "scrolled": true
   },
   "outputs": [],
   "source": [
    "spec_tokens = \"xxunk xxpad xxbos xxeos xxfld xxrep xxwrep xxup xxmaj xxfake\".split()"
   ]
  },
  {
   "cell_type": "code",
   "execution_count": 5,
   "id": "87072bf1",
   "metadata": {},
   "outputs": [],
   "source": [
    "acceptable_chars = []\n",
    "for i in learn.dls.vocab:\n",
    "    if i not in spec_tokens:\n",
    "        if i.isalpha() or i.startswith('['):\n",
    "            acceptable_chars.append(i)\n"
   ]
  },
  {
   "cell_type": "code",
   "execution_count": 168,
   "id": "033326d2",
   "metadata": {},
   "outputs": [],
   "source": [
    "def base_sampler(model, seed='', max_size=20, temperature=1.0):\n",
    "    '''Base sampler to generate one SMILES using a chemistry model trained with fastai\n",
    "    temperature : sampling temperature (default = 0.7)\n",
    "    max_size : maximum size of the SMILES strings (default = 100)'''\n",
    "    \n",
    "    act = getattr(model.loss_func, 'activation', noop)\n",
    "    model.model.cuda()\n",
    "    \n",
    "    # Reset the model\n",
    "    model.model.reset()    \n",
    "    \n",
    "    # Define stop and start tokens\n",
    "    stop_token = model.dls.train.vocab.index(BOS)\n",
    "    start_token = model.dls.test_dl([seed]).items[0].to(model.dls.device)\n",
    "    \n",
    "    \n",
    "    # Numericalize (used to decode)\n",
    "    nums = model.dls.train_ds.numericalize   \n",
    "    \n",
    "    molecule = []                   # Store predicted tokens\n",
    "    model.model.eval()\n",
    "\n",
    "    for _ in range(max_size):\n",
    "        with torch.no_grad(): preds = model.model(start_token[None])[0][-1]\n",
    "        \n",
    "        res = act(preds)\n",
    "        if temperature != 1.: res.pow_(1 / temperature)\n",
    "        idx = torch.multinomial(res, 1).item()           \n",
    "        \n",
    "        if idx != stop_token:\n",
    "            molecule.append(idx)\n",
    "            start_token = start_token.new_tensor([idx])\n",
    "            \n",
    "            \n",
    "        else:\n",
    "            break\n",
    "    molecule = ''.join([nums.vocab[o] for o in molecule if nums.vocab[o] not in [BOS, PAD]])  # Decode predicted tokens\n",
    "    return molecule"
   ]
  },
  {
   "cell_type": "code",
   "execution_count": 163,
   "id": "690ab75f",
   "metadata": {},
   "outputs": [],
   "source": [
    "seed=''\n",
    "#Chem.MolFromSmiles(text)"
   ]
  },
  {
   "cell_type": "code",
   "execution_count": 166,
   "id": "d0a856de",
   "metadata": {},
   "outputs": [],
   "source": [
    "prod1 = base_sampler(learn,seed='',max_size=20)"
   ]
  },
  {
   "cell_type": "code",
   "execution_count": 167,
   "id": "4c92bfcd",
   "metadata": {},
   "outputs": [
    {
     "data": {
      "text/plain": [
       "'CNC(=O)[C@@H](NC(=O)[C@H](CCC'"
      ]
     },
     "execution_count": 167,
     "metadata": {},
     "output_type": "execute_result"
    }
   ],
   "source": [
    "prod1"
   ]
  },
  {
   "cell_type": "code",
   "execution_count": 84,
   "id": "a0acf397",
   "metadata": {},
   "outputs": [
    {
     "name": "stdout",
     "output_type": "stream",
     "text": [
      "CC#Cc1cncc(-c2cccc([C@] N=C(N)NCCC[C@@H]1NC(=O)[C@H]2\n",
      "CC1(C)Oc2ccc(NC(=O)c O=C(O)[C@@H]1[C@@H](S(=O)(=O)C\n",
      "Cc1ccc(-c2c3ccccc3c( Cc1ccc(S(=O)(=O)N2CC\n",
      "COc1ccc(-c2cc(N3C[C@H](c NCC(=O)Nc1ccc(OP(=O)\n",
      "COCCCOc1cc(C[C@@H](C[C@H](N)[C@@H] Cc1cnc(C(CC(=O)O)c2c\n",
      "COc1ccc(S(=O)(=O)[C@@H](C CCC(CC)(Cc1ccc(C(=O)\n",
      "CC(C)=CCC/C(C)=C/Cc1 O=C(NC1CCN(C(=O)c2cc\n",
      "C/C(=C(\\F)C(=O)Nc1cc Cc1cc2oc(Oc3ccc4c(c3\n",
      "COc1cccc(C(=O)N[C@@H](CC( CN(Cc1cn(CC(C)(C)C)n\n",
      "Cc1cc2cc(N/C(=N\\S(=O CN(C)Cc1ccccc1-c1ccc\n",
      "CCCN(CCC)C(=O)c1cc(C CC(C)c1cc(C(C)C)c(S(\n",
      "COc1ccc(-c2nc3ccc(Cl) O=C1NNC(=S)S/C1=C\\c1\n",
      "N=C(N)c1ccc2[nH]c(-c3cc C/C(=N/[C@@H]1CCCC[C@@H]1NC(=O\n",
      "Cc1cc2ccc1[C@@H](C)COC(=O CS(=O)(=O)Nc1ccc(CCN\n",
      "N=C(N)NCCC[C@@H](C=O)NC(= COCCCCn1cc([C@@H](C)N(C(=\n",
      "CC(=N)N1CCC(Oc2ccc3c C[C@H](NC(=O)CNC(=O)[C@@H](NS\n",
      "O=C(O)[C@H](Cc1ccccc1)NS CC(C)Oc1cc(O)ccc1[C@@H]1C\n",
      "CCN(CC)c1cccc2c(S(=O CN1C(=N)NC(c2cccc(-c\n",
      "Cc1cc(Cl)cc(C(=O)NO)c N=C(N)c1ccc(CNC(=O)[C@@H]\n",
      "CCc1nc2cccc(CCC)c2c( O=P(O)(O)C(Nc1ccc(Oc\n"
     ]
    }
   ],
   "source": [
    "for _ in range(20):\n",
    "    prod1 = base_sampler(learn,text='',max_size=20)\n",
    "    prod2 = base_sampler_seeds(learn,text='',max_size=20)\n",
    "    \n",
    "    print(prod1, prod2)"
   ]
  },
  {
   "cell_type": "code",
   "execution_count": 79,
   "id": "4d9d5888",
   "metadata": {},
   "outputs": [],
   "source": []
  },
  {
   "cell_type": "code",
   "execution_count": 81,
   "id": "445c1774",
   "metadata": {},
   "outputs": [
    {
     "data": {
      "text/plain": [
       "('CC(C)[C@H](NC(=O)Nc1cccc', 'CCCCCOCNCCOC[C@H]OOCCOcC')"
      ]
     },
     "execution_count": 81,
     "metadata": {},
     "output_type": "execute_result"
    }
   ],
   "source": [
    "prod1,prod2"
   ]
  },
  {
   "cell_type": "markdown",
   "id": "79dde236",
   "metadata": {},
   "source": [
    "# Validation"
   ]
  },
  {
   "cell_type": "code",
   "execution_count": 234,
   "id": "99dee4f4",
   "metadata": {},
   "outputs": [],
   "source": [
    "from generative.DistributionBenchmark import *"
   ]
  },
  {
   "cell_type": "code",
   "execution_count": 235,
   "id": "b1fe4775",
   "metadata": {},
   "outputs": [],
   "source": [
    "distrib_benchmark = MolSampler(model_fname='/home/marcossantana/Downloads/export.pkl')"
   ]
  },
  {
   "cell_type": "markdown",
   "id": "486bcc03",
   "metadata": {},
   "source": [
    "# Max size impact\n",
    "\n",
    "How does validity performance changes w.r.t max_size?"
   ]
  },
  {
   "cell_type": "code",
   "execution_count": 188,
   "id": "6198f3f1",
   "metadata": {},
   "outputs": [],
   "source": [
    "def generate_mols(model,seed='', max_size=100, max_mols=100, temperature=1.0,**kwargs):\n",
    "    '''Generate molecules using a base sampler'''\n",
    "        \n",
    "    return [base_sampler(model=model, seed=seed, max_size=max_size, temperature=temperature) for i in range(max_mols)]"
   ]
  },
  {
   "cell_type": "code",
   "execution_count": 255,
   "id": "2ddf6979",
   "metadata": {},
   "outputs": [
    {
     "data": {
      "text/plain": [
       "[20, 40, 60, 80, 100, 120, 140, 160, 180, 200]"
      ]
     },
     "execution_count": 255,
     "metadata": {},
     "output_type": "execute_result"
    }
   ],
   "source": []
  },
  {
   "cell_type": "code",
   "execution_count": 256,
   "id": "640a4156",
   "metadata": {},
   "outputs": [
    {
     "name": "stdout",
     "output_type": "stream",
     "text": [
      "Sampling with temperature 1.0\n"
     ]
    },
    {
     "data": {
      "application/vnd.jupyter.widget-view+json": {
       "model_id": "881b1cec56d64326aaa6c309fe03d96f",
       "version_major": 2,
       "version_minor": 0
      },
      "text/plain": [
       "  0%|          | 0/5 [00:00<?, ?it/s]"
      ]
     },
     "metadata": {},
     "output_type": "display_data"
    },
    {
     "name": "stdout",
     "output_type": "stream",
     "text": [
      "[0.05] [0.05] [0.05]\n",
      "[0.05, 0.08] [0.05, 0.08] [0.05, 0.08]\n",
      "[0.05, 0.08, 0.11] [0.05, 0.08, 0.11] [0.05, 0.08, 0.11]\n",
      "[0.05, 0.08, 0.11, 0.04] [0.05, 0.08, 0.11, 0.04] [0.05, 0.08, 0.11, 0.04]\n",
      "[0.05, 0.08, 0.11, 0.04, 0.07] [0.05, 0.08, 0.11, 0.04, 0.07] [0.05, 0.08, 0.11, 0.04, 0.07]\n",
      "Sampling with temperature 1.0\n"
     ]
    },
    {
     "data": {
      "application/vnd.jupyter.widget-view+json": {
       "model_id": "bb2c62c6ac9248d280aec28663178a5c",
       "version_major": 2,
       "version_minor": 0
      },
      "text/plain": [
       "  0%|          | 0/5 [00:00<?, ?it/s]"
      ]
     },
     "metadata": {},
     "output_type": "display_data"
    },
    {
     "name": "stdout",
     "output_type": "stream",
     "text": [
      "[0.2] [0.2] [0.2]\n",
      "[0.2, 0.17] [0.2, 0.17] [0.2, 0.17]\n",
      "[0.2, 0.17, 0.13] [0.2, 0.17, 0.13] [0.2, 0.17, 0.13]\n",
      "[0.2, 0.17, 0.13, 0.19] [0.2, 0.17, 0.13, 0.19] [0.2, 0.17, 0.13, 0.19]\n",
      "[0.2, 0.17, 0.13, 0.19, 0.2] [0.2, 0.17, 0.13, 0.19, 0.2] [0.2, 0.17, 0.13, 0.19, 0.2]\n",
      "Sampling with temperature 1.0\n"
     ]
    },
    {
     "data": {
      "application/vnd.jupyter.widget-view+json": {
       "model_id": "aefe425e7cfd49d8b3c71b4df5af15dc",
       "version_major": 2,
       "version_minor": 0
      },
      "text/plain": [
       "  0%|          | 0/5 [00:00<?, ?it/s]"
      ]
     },
     "metadata": {},
     "output_type": "display_data"
    },
    {
     "name": "stdout",
     "output_type": "stream",
     "text": [
      "[0.68] [0.68] [0.68]\n",
      "[0.68, 0.57] [0.68, 0.57] [0.68, 0.57]\n",
      "[0.68, 0.57, 0.63] [0.68, 0.57, 0.63] [0.68, 0.57, 0.63]\n",
      "[0.68, 0.57, 0.63, 0.71] [0.68, 0.57, 0.63, 0.71] [0.68, 0.57, 0.63, 0.71]\n",
      "[0.68, 0.57, 0.63, 0.71, 0.63] [0.68, 0.57, 0.63, 0.71, 0.63] [0.68, 0.57, 0.63, 0.71, 0.63]\n",
      "Sampling with temperature 1.0\n"
     ]
    },
    {
     "data": {
      "application/vnd.jupyter.widget-view+json": {
       "model_id": "ecac7318dd0741f6ad9dcd5211751eab",
       "version_major": 2,
       "version_minor": 0
      },
      "text/plain": [
       "  0%|          | 0/5 [00:00<?, ?it/s]"
      ]
     },
     "metadata": {},
     "output_type": "display_data"
    },
    {
     "name": "stdout",
     "output_type": "stream",
     "text": [
      "[0.96] [0.96] [0.96]\n",
      "[0.96, 0.98] [0.96, 0.98] [0.96, 0.98]\n",
      "[0.96, 0.98, 0.94] [0.96, 0.98, 0.94] [0.96, 0.98, 0.94]\n",
      "[0.96, 0.98, 0.94, 0.92] [0.96, 0.98, 0.94, 0.92] [0.96, 0.98, 0.94, 0.92]\n",
      "[0.96, 0.98, 0.94, 0.92, 0.93] [0.96, 0.98, 0.94, 0.92, 0.93] [0.96, 0.98, 0.94, 0.92, 0.93]\n",
      "Sampling with temperature 1.0\n"
     ]
    },
    {
     "data": {
      "application/vnd.jupyter.widget-view+json": {
       "model_id": "cfc1abc1f4b54218890e4da48e0ed01c",
       "version_major": 2,
       "version_minor": 0
      },
      "text/plain": [
       "  0%|          | 0/5 [00:00<?, ?it/s]"
      ]
     },
     "metadata": {},
     "output_type": "display_data"
    },
    {
     "name": "stdout",
     "output_type": "stream",
     "text": [
      "[0.97] [0.97] [0.97]\n",
      "[0.97, 0.93] [0.97, 0.93] [0.97, 0.93]\n",
      "[0.97, 0.93, 0.96] [0.97, 0.93, 0.96] [0.97, 0.93, 0.96]\n",
      "[0.97, 0.93, 0.96, 0.96] [0.97, 0.93, 0.96, 0.96] [0.97, 0.93, 0.96, 0.96]\n",
      "[0.97, 0.93, 0.96, 0.96, 0.98] [0.97, 0.93, 0.96, 0.96, 0.98] [0.97, 0.93, 0.96, 0.96, 0.98]\n",
      "Sampling with temperature 1.0\n"
     ]
    },
    {
     "data": {
      "application/vnd.jupyter.widget-view+json": {
       "model_id": "434d385e1bcc4cf8954decb7a30bdccf",
       "version_major": 2,
       "version_minor": 0
      },
      "text/plain": [
       "  0%|          | 0/5 [00:00<?, ?it/s]"
      ]
     },
     "metadata": {},
     "output_type": "display_data"
    },
    {
     "name": "stdout",
     "output_type": "stream",
     "text": [
      "[0.97] [0.97] [0.97]\n",
      "[0.97, 0.96] [0.97, 0.96] [0.97, 0.96]\n",
      "[0.97, 0.96, 0.94] [0.97, 0.96, 0.94] [0.97, 0.96, 0.94]\n",
      "[0.97, 0.96, 0.94, 0.98] [0.97, 0.96, 0.94, 0.98] [0.97, 0.96, 0.94, 0.98]\n",
      "[0.97, 0.96, 0.94, 0.98, 0.9] [0.97, 0.96, 0.94, 0.98, 0.9] [0.97, 0.96, 0.94, 0.98, 0.9]\n",
      "Sampling with temperature 1.0\n"
     ]
    },
    {
     "data": {
      "application/vnd.jupyter.widget-view+json": {
       "model_id": "491db34af32841a9bff3524075b8a789",
       "version_major": 2,
       "version_minor": 0
      },
      "text/plain": [
       "  0%|          | 0/5 [00:00<?, ?it/s]"
      ]
     },
     "metadata": {},
     "output_type": "display_data"
    },
    {
     "name": "stdout",
     "output_type": "stream",
     "text": [
      "[0.95] [0.95] [0.95]\n",
      "[0.95, 0.93] [0.95, 0.93] [0.95, 0.93]\n",
      "[0.95, 0.93, 0.98] [0.95, 0.93, 0.98] [0.95, 0.93, 0.98]\n",
      "[0.95, 0.93, 0.98, 0.95] [0.95, 0.93, 0.98, 0.95] [0.95, 0.93, 0.98, 0.95]\n",
      "[0.95, 0.93, 0.98, 0.95, 0.97] [0.95, 0.93, 0.98, 0.95, 0.97] [0.95, 0.93, 0.98, 0.95, 0.97]\n",
      "Sampling with temperature 1.0\n"
     ]
    },
    {
     "data": {
      "application/vnd.jupyter.widget-view+json": {
       "model_id": "3047537a547244baa0774dcb50f63e70",
       "version_major": 2,
       "version_minor": 0
      },
      "text/plain": [
       "  0%|          | 0/5 [00:00<?, ?it/s]"
      ]
     },
     "metadata": {},
     "output_type": "display_data"
    },
    {
     "name": "stdout",
     "output_type": "stream",
     "text": [
      "[0.98] [0.97] [0.97]\n",
      "[0.98, 0.96] [0.97, 0.96] [0.97, 0.96]\n",
      "[0.98, 0.96, 0.94] [0.97, 0.96, 0.94] [0.97, 0.96, 0.94]\n",
      "[0.98, 0.96, 0.94, 0.95] [0.97, 0.96, 0.94, 0.95] [0.97, 0.96, 0.94, 0.95]\n",
      "[0.98, 0.96, 0.94, 0.95, 0.94] [0.97, 0.96, 0.94, 0.95, 0.93] [0.97, 0.96, 0.94, 0.95, 0.93]\n",
      "Sampling with temperature 1.0\n"
     ]
    },
    {
     "data": {
      "application/vnd.jupyter.widget-view+json": {
       "model_id": "08ccbe4a1c8c4b04a03223994680ca29",
       "version_major": 2,
       "version_minor": 0
      },
      "text/plain": [
       "  0%|          | 0/5 [00:00<?, ?it/s]"
      ]
     },
     "metadata": {},
     "output_type": "display_data"
    },
    {
     "name": "stdout",
     "output_type": "stream",
     "text": [
      "[0.96] [0.96] [0.96]\n",
      "[0.96, 0.95] [0.96, 0.94] [0.96, 0.94]\n",
      "[0.96, 0.95, 0.96] [0.96, 0.94, 0.96] [0.96, 0.94, 0.96]\n",
      "[0.96, 0.95, 0.96, 0.96] [0.96, 0.94, 0.96, 0.96] [0.96, 0.94, 0.96, 0.96]\n",
      "[0.96, 0.95, 0.96, 0.96, 0.95] [0.96, 0.94, 0.96, 0.96, 0.95] [0.96, 0.94, 0.96, 0.96, 0.95]\n",
      "Sampling with temperature 1.0\n"
     ]
    },
    {
     "data": {
      "application/vnd.jupyter.widget-view+json": {
       "model_id": "bba0fb85769d4ec0a2272f7a62d63447",
       "version_major": 2,
       "version_minor": 0
      },
      "text/plain": [
       "  0%|          | 0/5 [00:00<?, ?it/s]"
      ]
     },
     "metadata": {},
     "output_type": "display_data"
    },
    {
     "name": "stdout",
     "output_type": "stream",
     "text": [
      "[0.94] [0.94] [0.94]\n",
      "[0.94, 0.99] [0.94, 0.99] [0.94, 0.99]\n",
      "[0.94, 0.99, 0.98] [0.94, 0.99, 0.98] [0.94, 0.99, 0.98]\n",
      "[0.94, 0.99, 0.98, 0.89] [0.94, 0.99, 0.98, 0.89] [0.94, 0.99, 0.98, 0.89]\n",
      "[0.94, 0.99, 0.98, 0.89, 0.94] [0.94, 0.99, 0.98, 0.89, 0.94] [0.94, 0.99, 0.98, 0.89, 0.94]\n"
     ]
    }
   ],
   "source": [
    "sizes = {size : {'validity':[],'uniqueness':[], 'novelty':[]} for size in list(range(20, 220, 20))}\n",
    "for size in sizes.keys():\n",
    "    val, nov, unq = distrib_benchmark.generative_benchmark(max_size=size,max_mols=100,iterations=5,temperatures=[1.0])\n",
    "    sizes[size]['validity']=val\n",
    "    sizes[size]['novelty']=nov\n",
    "    sizes[size]['uniqueness']=unq"
   ]
  },
  {
   "cell_type": "code",
   "execution_count": 257,
   "id": "64fb72ae",
   "metadata": {},
   "outputs": [],
   "source": [
    "sizes_df = pd.melt(pd.DataFrame(sizes))"
   ]
  },
  {
   "cell_type": "code",
   "execution_count": 261,
   "id": "20013f02",
   "metadata": {},
   "outputs": [
    {
     "data": {
      "text/plain": [
       "['benchmark_maxsize.pkl']"
      ]
     },
     "execution_count": 261,
     "metadata": {},
     "output_type": "execute_result"
    }
   ],
   "source": [
    "from joblib import load, dump\n",
    "dump(sizes, 'benchmark_maxsize.pkl')"
   ]
  },
  {
   "cell_type": "code",
   "execution_count": 228,
   "id": "07e065b9",
   "metadata": {},
   "outputs": [
    {
     "data": {
      "image/png": "[encoded data removed]",
      "text/plain": [
       "<Figure size 864x612 with 1 Axes>"
      ]
     },
     "metadata": {},
     "output_type": "display_data"
    }
   ],
   "source": [
    "fig = plt.figure(figsize=(12,8.5))\n",
    "sns.set_context('paper',font_scale=1.5)\n",
    "sns.set_style('whitegrid')\n",
    "ax=sns.barplot(x='variable',y='value',data=sizes_df,palette='tab10')\n",
    "sns.despine(right=True,top=True)\n",
    "ax.set_ylabel('Validity')\n",
    "ax.set_xlabel('Max size')\n",
    "for _,s in ax.spines.items():\n",
    "    s.set_linewidth(1.5)\n",
    "    s.set_color('black')"
   ]
  },
  {
   "cell_type": "code",
   "execution_count": 191,
   "id": "2efd81f5",
   "metadata": {},
   "outputs": [],
   "source": []
  },
  {
   "cell_type": "code",
   "execution_count": 192,
   "id": "6f6d2147",
   "metadata": {},
   "outputs": [
    {
     "data": {
      "text/plain": [
       "98"
      ]
     },
     "execution_count": 192,
     "metadata": {},
     "output_type": "execute_result"
    }
   ],
   "source": [
    "len(valid_smiles_normal)"
   ]
  },
  {
   "cell_type": "code",
   "execution_count": null,
   "id": "935bbfd3",
   "metadata": {},
   "outputs": [],
   "source": []
  }
 ],
 "metadata": {
  "kernelspec": {
   "display_name": "Python 3",
   "language": "python",
   "name": "python3"
  },
  "language_info": {
   "codemirror_mode": {
    "name": "ipython",
    "version": 3
   },
   "file_extension": ".py",
   "mimetype": "text/x-python",
   "name": "python",
   "nbconvert_exporter": "python",
   "pygments_lexer": "ipython3",
   "version": "3.8.8"
  }
 },
 "nbformat": 4,
 "nbformat_minor": 5
}
