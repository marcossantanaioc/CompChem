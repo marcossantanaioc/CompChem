{
 "cells": [
  {
   "cell_type": "code",
   "execution_count": 1,
   "metadata": {},
   "outputs": [],
   "source": [
    "%reload_ext autoreload\n",
    "%autoreload 2"
   ]
  },
  {
   "cell_type": "code",
   "execution_count": 2,
   "metadata": {},
   "outputs": [
    {
     "ename": "ModuleNotFoundError",
     "evalue": "No module named 'descriptastorus'",
     "output_type": "error",
     "traceback": [
      "\u001b[0;31m---------------------------------------------------------------------------\u001b[0m",
      "\u001b[0;31mModuleNotFoundError\u001b[0m                       Traceback (most recent call last)",
      "\u001b[0;32m<ipython-input-2-c107d704e3b3>\u001b[0m in \u001b[0;36m<module>\u001b[0;34m\u001b[0m\n\u001b[1;32m      4\u001b[0m \u001b[0;34m\u001b[0m\u001b[0m\n\u001b[1;32m      5\u001b[0m \u001b[0;32mfrom\u001b[0m \u001b[0mrdkit\u001b[0m\u001b[0;34m.\u001b[0m\u001b[0mChem\u001b[0m\u001b[0;34m.\u001b[0m\u001b[0mAllChem\u001b[0m \u001b[0;32mimport\u001b[0m \u001b[0mGetMACCSKeysFingerprint\u001b[0m\u001b[0;34m\u001b[0m\u001b[0;34m\u001b[0m\u001b[0m\n\u001b[0;32m----> 6\u001b[0;31m \u001b[0;32mfrom\u001b[0m \u001b[0mdescriptastorus\u001b[0m\u001b[0;34m.\u001b[0m\u001b[0mdescriptors\u001b[0m \u001b[0;32mimport\u001b[0m \u001b[0mDescriptorGenerator\u001b[0m\u001b[0;34m,\u001b[0m \u001b[0mMorganCounts\u001b[0m\u001b[0;34m,\u001b[0m \u001b[0mMorgan\u001b[0m\u001b[0;34m,\u001b[0m \u001b[0mRDKit2D\u001b[0m\u001b[0;34m,\u001b[0m \u001b[0mRDKitFPBits\u001b[0m\u001b[0;34m,\u001b[0m \u001b[0mFeatureMorganCounts\u001b[0m\u001b[0;34m,\u001b[0m \u001b[0mFeatureMorgan\u001b[0m\u001b[0;34m,\u001b[0m \u001b[0mAtomPair\u001b[0m\u001b[0;34m,\u001b[0m \u001b[0mAtomPairCounts\u001b[0m\u001b[0;34m\u001b[0m\u001b[0;34m\u001b[0m\u001b[0m\n\u001b[0m",
      "\u001b[0;31mModuleNotFoundError\u001b[0m: No module named 'descriptastorus'"
     ]
    }
   ],
   "source": [
    "#export\n",
    "import numpy as np\n",
    "from rdkit import Chem\n",
    "\n",
    "from rdkit.Chem.AllChem import GetMACCSKeysFingerprint\n",
    "from descriptastorus.descriptors import DescriptorGenerator, MorganCounts, Morgan, RDKit2D, RDKitFPBits, FeatureMorganCounts, FeatureMorgan, AtomPair, AtomPairCounts"
   ]
  },
  {
   "cell_type": "code",
   "execution_count": 4,
   "metadata": {},
   "outputs": [],
   "source": [
    "import pandas as pd"
   ]
  },
  {
   "cell_type": "code",
   "execution_count": 5,
   "metadata": {},
   "outputs": [],
   "source": [
    "data = pd.read_csv('/home/marcossantana/Documentos/GitHub/ADMETBox/data/PGP/Metrabase/trainset.csv')"
   ]
  },
  {
   "cell_type": "code",
   "execution_count": 6,
   "metadata": {},
   "outputs": [],
   "source": [
    "smiles = data.processed_smiles.tolist()"
   ]
  },
  {
   "cell_type": "code",
   "execution_count": 7,
   "metadata": {},
   "outputs": [],
   "source": [
    "#export\n",
    "class MACCSGenerator(DescriptorGenerator):\n",
    "    \"\"\"Computes MACCS bitvector\"\"\"\n",
    "    NAME = \"MACCS\"\n",
    "    def __init__(self):\n",
    "            \n",
    "        DescriptorGenerator.__init__(self)\n",
    "        # specify names and numpy types for all columns\n",
    "        maccs = [(\"maccs-%d\"%d, np.uint8) for d in range(166)]\n",
    "        self.columns += maccs\n",
    "\n",
    "    def calculateMol(self, m, smiles, internalParsing=False):\n",
    "        counts = list(GetMACCSKeysFingerprint(m))[1: ]\n",
    "        return counts       \n",
    "    \n",
    "\n",
    "class Fingerprinter():\n",
    "    def __init__(self, smiles):\n",
    "        self.smiles = smiles\n",
    "        \n",
    "        \n",
    "    def _define_generators(self, gen, **kwargs):\n",
    "    \n",
    "        '''Define feature generator.\n",
    "\n",
    "        Arguments:\n",
    "        gen : str\n",
    "            Name of the generator to use. Options: \n",
    "\n",
    "            ecfp : Morgan fingerprints (extended connectivity fingerprint)\n",
    "            fcfp : Feature-based Morgan fingerprints (functional connectivity fingerprint)\n",
    "            atom_pairs : Atom pairs as defined in https://pubs.acs.org/doi/10.1021/ci00046a002\n",
    "\n",
    "        nbits : int\n",
    "            Final number of bits in the fingerprint\n",
    "\n",
    "        radius : int\n",
    "            Radius around central atom to calculate Morgan fingerprints'''\n",
    "    \n",
    "        radius = kwargs.get('radius', 3)\n",
    "        nbits = kwargs.get('nbits', 2048)\n",
    "\n",
    "\n",
    "        if gen == 'ecfp':\n",
    "            feature_generator = Morgan(radius=radius,nbits=nbits)\n",
    "            \n",
    "        elif gen == 'atom_pairs':\n",
    "            feature_generator = AtomPairCounts(nbits=nbits)\n",
    "            \n",
    "        elif gen == 'fcfp':\n",
    "            feature_generator = FeatureMorgan(radius=radius,nbits=nbits)\n",
    "            \n",
    "        elif gen == 'maccs':\n",
    "            feature_generator = MACCSGenerator()\n",
    "            \n",
    "        return feature_generator \n",
    "\n",
    "\n",
    "    def generate_fingerprint(self, gen, **kwargs):\n",
    "        '''Calculate features for a list of SMILES using a feature generator.\n",
    "\n",
    "        Arguments:\n",
    "        gen : str\n",
    "            Name of the generator to use. Options: \n",
    "\n",
    "            ecfp : Morgan fingerprints (extended connectivity fingerprint)\n",
    "            fcfp : Feature-based Morgan fingerprints (functional connectivity fingerprint)\n",
    "            atom_pairs : Atom pairs as defined in https://pubs.acs.org/doi/10.1021/ci00046a002\n",
    "\n",
    "\n",
    "        nbits : int\n",
    "            Final number of bits in the fingerprint\n",
    "\n",
    "        radius : int\n",
    "            Radius around central atom to calculate Morgan fingerprints'''\n",
    "    \n",
    "        if not isinstance(gen, str):\n",
    "            raise TypeError('Please provide a string that represents a valid generator name.')\n",
    "\n",
    "        if gen not in ['maccs','ecfp', 'fcfp', 'atom_pairs']:\n",
    "            raise ValueError(\"Please provide a valid generator. Viable options are: 'maccs','ecfp', 'fcfp', 'atom_pairs'\")\n",
    "\n",
    "        \n",
    "        feature_generator = self._define_generators(gen=gen, **kwargs)\n",
    "        return np.array(feature_generator.processSmiles(self.smiles)[1])[:, 1:]\n",
    "    \n",
    "        \n",
    "    def __len__(self): \n",
    "        return len(self.smiles)\n",
    "    \n",
    "    def __getitem__(self, i):\n",
    "        return self.smiles[i]\n",
    "    \n",
    "    def __str__(self):\n",
    "        return 'Size of SMILES dataset: {}\\nFirst SMILES: {}'.format(len(self.smiles), self.smiles[0])"
   ]
  },
  {
   "cell_type": "code",
   "execution_count": 8,
   "metadata": {},
   "outputs": [],
   "source": [
    "fp_class = Fingerprinter(smiles)"
   ]
  },
  {
   "cell_type": "code",
   "execution_count": 9,
   "metadata": {},
   "outputs": [
    {
     "name": "stdout",
     "output_type": "stream",
     "text": [
      "Size of SMILES dataset: 766\n",
      "First SMILES: CN(C)CCOc1ccc(/C(=C(/CCCl)c2ccccc2)c2ccccc2)cc1\n"
     ]
    }
   ],
   "source": [
    "print(fp_class)"
   ]
  },
  {
   "cell_type": "code",
   "execution_count": 10,
   "metadata": {},
   "outputs": [],
   "source": [
    "X = fp_class.generate_fingerprint(gen='atom_pairs')"
   ]
  },
  {
   "cell_type": "code",
   "execution_count": 11,
   "metadata": {},
   "outputs": [
    {
     "data": {
      "text/plain": [
       "(766, 2048)"
      ]
     },
     "execution_count": 11,
     "metadata": {},
     "output_type": "execute_result"
    }
   ],
   "source": [
    "X.shape"
   ]
  },
  {
   "cell_type": "markdown",
   "metadata": {},
   "source": [
    "# Testing"
   ]
  },
  {
   "cell_type": "code",
   "execution_count": null,
   "metadata": {},
   "outputs": [],
   "source": [
    "import unittest"
   ]
  },
  {
   "cell_type": "code",
   "execution_count": 12,
   "metadata": {},
   "outputs": [],
   "source": [
    "class TestFingerprinter(unittest.TestCase):\n",
    "    \n",
    "    def test_fingerprint_shape(self):\n",
    "        smiles = ['CN(C)CCOc1ccc(/C(=C(/CCCl)c2ccccc2)c2ccccc2)cc1']\n",
    "        fp_class = Fingerprinter(smiles)\n",
    "        sizes = [166, 1024, 1024, 1024]\n",
    "        for fp_type, size in list(zip(['maccs','ecfp','fcfp','atom_pairs'], sizes)):\n",
    "            print(fp_type, size)\n",
    "            x = fp_class.generate_fingerprint(gen=fp_type, nbits=size)\n",
    "\n",
    "            self.assertEqual(x.shape, (len(smiles), size))"
   ]
  },
  {
   "cell_type": "code",
   "execution_count": 13,
   "metadata": {},
   "outputs": [
    {
     "name": "stdout",
     "output_type": "stream",
     "text": [
      "maccs 166\n",
      "ecfp 1024\n",
      "fcfp 1024\n",
      "atom_pairs 1024\n"
     ]
    }
   ],
   "source": [
    "TestFingerprinter().test_fingerprint_shape()"
   ]
  },
  {
   "cell_type": "code",
   "execution_count": 1,
   "metadata": {},
   "outputs": [
    {
     "ename": "ModuleNotFoundError",
     "evalue": "No module named 'descriptastorus'",
     "output_type": "error",
     "traceback": [
      "\u001b[0;31m---------------------------------------------------------------------------\u001b[0m",
      "\u001b[0;31mModuleNotFoundError\u001b[0m                       Traceback (most recent call last)",
      "\u001b[0;32m<ipython-input-1-3ff508d3eb1f>\u001b[0m in \u001b[0;36m<module>\u001b[0;34m\u001b[0m\n\u001b[0;32m----> 1\u001b[0;31m \u001b[0;32mfrom\u001b[0m \u001b[0mutils\u001b[0m \u001b[0;32mimport\u001b[0m \u001b[0mFingerprinter\u001b[0m\u001b[0;34m\u001b[0m\u001b[0;34m\u001b[0m\u001b[0m\n\u001b[0m",
      "\u001b[0;32m~/GitHub/CompChem/notebooks/utils/Fingerprinter.py\u001b[0m in \u001b[0;36m<module>\u001b[0;34m\u001b[0m\n\u001b[1;32m      8\u001b[0m \u001b[0;32mfrom\u001b[0m \u001b[0mrdkit\u001b[0m \u001b[0;32mimport\u001b[0m \u001b[0mChem\u001b[0m\u001b[0;34m\u001b[0m\u001b[0;34m\u001b[0m\u001b[0m\n\u001b[1;32m      9\u001b[0m \u001b[0;32mfrom\u001b[0m \u001b[0mrdkit\u001b[0m\u001b[0;34m.\u001b[0m\u001b[0mChem\u001b[0m\u001b[0;34m.\u001b[0m\u001b[0mAllChem\u001b[0m \u001b[0;32mimport\u001b[0m \u001b[0mGetMACCSKeysFingerprint\u001b[0m\u001b[0;34m\u001b[0m\u001b[0;34m\u001b[0m\u001b[0m\n\u001b[0;32m---> 10\u001b[0;31m \u001b[0;32mfrom\u001b[0m \u001b[0mdescriptastorus\u001b[0m\u001b[0;34m.\u001b[0m\u001b[0mdescriptors\u001b[0m \u001b[0;32mimport\u001b[0m \u001b[0mDescriptorGenerator\u001b[0m\u001b[0;34m,\u001b[0m \u001b[0mMorganCounts\u001b[0m\u001b[0;34m,\u001b[0m \u001b[0mMorgan\u001b[0m\u001b[0;34m,\u001b[0m \u001b[0mRDKit2D\u001b[0m\u001b[0;34m,\u001b[0m \u001b[0mRDKitFPBits\u001b[0m\u001b[0;34m,\u001b[0m \u001b[0mFeatureMorganCounts\u001b[0m\u001b[0;34m,\u001b[0m \u001b[0mFeatureMorgan\u001b[0m\u001b[0;34m,\u001b[0m \u001b[0mAtomPair\u001b[0m\u001b[0;34m,\u001b[0m \u001b[0mAtomPairCounts\u001b[0m\u001b[0;34m\u001b[0m\u001b[0;34m\u001b[0m\u001b[0m\n\u001b[0m\u001b[1;32m     11\u001b[0m \u001b[0;34m\u001b[0m\u001b[0m\n\u001b[1;32m     12\u001b[0m \u001b[0;32mclass\u001b[0m \u001b[0mMACCSGenerator\u001b[0m\u001b[0;34m(\u001b[0m\u001b[0mDescriptorGenerator\u001b[0m\u001b[0;34m)\u001b[0m\u001b[0;34m:\u001b[0m\u001b[0;34m\u001b[0m\u001b[0;34m\u001b[0m\u001b[0m\n",
      "\u001b[0;31mModuleNotFoundError\u001b[0m: No module named 'descriptastorus'"
     ]
    }
   ],
   "source": [
    "from utils import Fingerprinter"
   ]
  },
  {
   "cell_type": "code",
   "execution_count": null,
   "metadata": {},
   "outputs": [],
   "source": []
  }
 ],
 "metadata": {
  "kernelspec": {
   "display_name": "Python 3",
   "language": "python",
   "name": "python3"
  },
  "language_info": {
   "codemirror_mode": {
    "name": "ipython",
    "version": 3
   },
   "file_extension": ".py",
   "mimetype": "text/x-python",
   "name": "python",
   "nbconvert_exporter": "python",
   "pygments_lexer": "ipython3",
   "version": "3.8.8"
  }
 },
 "nbformat": 4,
 "nbformat_minor": 4
}
