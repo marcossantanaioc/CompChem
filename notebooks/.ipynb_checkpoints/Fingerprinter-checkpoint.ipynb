{
 "cells": [
  {
   "cell_type": "code",
   "execution_count": 18,
   "metadata": {},
   "outputs": [
    {
     "name": "stdout",
     "output_type": "stream",
     "text": [
      "Author: Marcos Santana\n",
      "\n",
      "Python implementation: CPython\n",
      "Python version       : 3.8.8\n",
      "IPython version      : 7.22.0\n",
      "\n",
      "numpy          : 1.20.1\n",
      "pandas         : 1.2.4\n",
      "rdkit          : 2021.03.5\n",
      "descriptastorus: 2.3.0.2\n",
      "\n"
     ]
    }
   ],
   "source": [
    "%reload_ext autoreload\n",
    "%autoreload 2\n",
    "%load_ext watermark\n",
    "%watermark -a 'Marcos Santana' -d -p numpy,pandas,rdkit,descriptastorus -v"
   ]
  },
  {
   "cell_type": "code",
   "execution_count": 19,
   "metadata": {},
   "outputs": [],
   "source": [
    "#export\n",
    "import pandas as pd\n",
    "import numpy as np\n",
    "from rdkit import Chem\n",
    "\n",
    "from rdkit.Chem.AllChem import GetMACCSKeysFingerprint\n",
    "from descriptastorus.descriptors import DescriptorGenerator, MorganCounts, Morgan, RDKit2D, RDKitFPBits, FeatureMorganCounts, FeatureMorgan, AtomPair, AtomPairCounts"
   ]
  },
  {
   "cell_type": "markdown",
   "metadata": {},
   "source": [
    "# Load data"
   ]
  },
  {
   "cell_type": "code",
   "execution_count": 23,
   "metadata": {},
   "outputs": [
    {
     "data": {
      "text/html": [
       "<div>\n",
       "<style scoped>\n",
       "    .dataframe tbody tr th:only-of-type {\n",
       "        vertical-align: middle;\n",
       "    }\n",
       "\n",
       "    .dataframe tbody tr th {\n",
       "        vertical-align: top;\n",
       "    }\n",
       "\n",
       "    .dataframe thead th {\n",
       "        text-align: right;\n",
       "    }\n",
       "</style>\n",
       "<table border=\"1\" class=\"dataframe\">\n",
       "  <thead>\n",
       "    <tr style=\"text-align: right;\">\n",
       "      <th></th>\n",
       "      <th>doc_id</th>\n",
       "      <th>standard_value</th>\n",
       "      <th>standard_type</th>\n",
       "      <th>standard_relation</th>\n",
       "      <th>pchembl</th>\n",
       "      <th>molregno</th>\n",
       "      <th>canonical_smiles</th>\n",
       "      <th>chembl_id</th>\n",
       "      <th>target_dictionary</th>\n",
       "      <th>target_chembl_id</th>\n",
       "      <th>l1</th>\n",
       "      <th>l2</th>\n",
       "      <th>l3</th>\n",
       "      <th>confidence_score</th>\n",
       "      <th>act</th>\n",
       "      <th>processed_smiles</th>\n",
       "      <th>is_valid</th>\n",
       "    </tr>\n",
       "  </thead>\n",
       "  <tbody>\n",
       "    <tr>\n",
       "      <th>0</th>\n",
       "      <td>47181</td>\n",
       "      <td>1.50</td>\n",
       "      <td>IC50</td>\n",
       "      <td>=</td>\n",
       "      <td>8.82</td>\n",
       "      <td>459679</td>\n",
       "      <td>COc1ccc(NC(=O)c2ccc(C(=N)N(C)C)cc2)c(C(=O)Nc2c...</td>\n",
       "      <td>CHEMBL512351</td>\n",
       "      <td>194</td>\n",
       "      <td>CHEMBL244</td>\n",
       "      <td>Enzyme</td>\n",
       "      <td>Protease</td>\n",
       "      <td>Serine protease</td>\n",
       "      <td>8</td>\n",
       "      <td>Active</td>\n",
       "      <td>COc1ccc(NC(=O)c2ccc(C(=N)N(C)C)cc2)c(C(=O)Nc2c...</td>\n",
       "      <td>False</td>\n",
       "    </tr>\n",
       "    <tr>\n",
       "      <th>1</th>\n",
       "      <td>30088</td>\n",
       "      <td>29000.00</td>\n",
       "      <td>IC50</td>\n",
       "      <td>=</td>\n",
       "      <td>4.54</td>\n",
       "      <td>655811</td>\n",
       "      <td>Cc1ccc(Oc2nc(Oc3cccc(C(=N)N)c3)c(F)c(NC(C)CCc3...</td>\n",
       "      <td>CHEMBL193933</td>\n",
       "      <td>194</td>\n",
       "      <td>CHEMBL244</td>\n",
       "      <td>Enzyme</td>\n",
       "      <td>Protease</td>\n",
       "      <td>Serine protease</td>\n",
       "      <td>9</td>\n",
       "      <td>Inactive</td>\n",
       "      <td>Cc1ccc(Oc2nc(Oc3cccc(C(=N)N)c3)c(F)c(NC(C)CCc3...</td>\n",
       "      <td>False</td>\n",
       "    </tr>\n",
       "    <tr>\n",
       "      <th>2</th>\n",
       "      <td>47295</td>\n",
       "      <td>1520.00</td>\n",
       "      <td>IC50</td>\n",
       "      <td>=</td>\n",
       "      <td>5.82</td>\n",
       "      <td>668808</td>\n",
       "      <td>N=C(N)c1ccc(CNC(=O)CN2C(=O)[C@H](NS(=O)(=O)Cc3...</td>\n",
       "      <td>CHEMBL553408</td>\n",
       "      <td>194</td>\n",
       "      <td>CHEMBL244</td>\n",
       "      <td>Enzyme</td>\n",
       "      <td>Protease</td>\n",
       "      <td>Serine protease</td>\n",
       "      <td>9</td>\n",
       "      <td>Inactive</td>\n",
       "      <td>N=C(N)c1ccc(CNC(=O)CN2C(=O)[C@H](NS(=O)(=O)Cc3...</td>\n",
       "      <td>False</td>\n",
       "    </tr>\n",
       "    <tr>\n",
       "      <th>3</th>\n",
       "      <td>46966</td>\n",
       "      <td>0.23</td>\n",
       "      <td>IC50</td>\n",
       "      <td>=</td>\n",
       "      <td>9.64</td>\n",
       "      <td>522778</td>\n",
       "      <td>CC(C)CNC(=O)c1ccc(-c2ccc(-c3nccs3)cc2C(=O)Nc2c...</td>\n",
       "      <td>CHEMBL524548</td>\n",
       "      <td>194</td>\n",
       "      <td>CHEMBL244</td>\n",
       "      <td>Enzyme</td>\n",
       "      <td>Protease</td>\n",
       "      <td>Serine protease</td>\n",
       "      <td>8</td>\n",
       "      <td>Active</td>\n",
       "      <td>CC(C)CNC(=O)c1ccc(-c2ccc(-c3nccs3)cc2C(=O)Nc2c...</td>\n",
       "      <td>False</td>\n",
       "    </tr>\n",
       "    <tr>\n",
       "      <th>4</th>\n",
       "      <td>62387</td>\n",
       "      <td>23000.00</td>\n",
       "      <td>IC50</td>\n",
       "      <td>=</td>\n",
       "      <td>4.64</td>\n",
       "      <td>1347407</td>\n",
       "      <td>O=C(Nc1ccc(N2CCOCC2=O)cc1)[C@H]1CCCCN1C(=O)Cc1...</td>\n",
       "      <td>CHEMBL2040990</td>\n",
       "      <td>194</td>\n",
       "      <td>CHEMBL244</td>\n",
       "      <td>Enzyme</td>\n",
       "      <td>Protease</td>\n",
       "      <td>Serine protease</td>\n",
       "      <td>9</td>\n",
       "      <td>Inactive</td>\n",
       "      <td>O=C(Nc1ccc(N2CCOCC2=O)cc1)[C@H]1CCCCN1C(=O)Cc1...</td>\n",
       "      <td>False</td>\n",
       "    </tr>\n",
       "  </tbody>\n",
       "</table>\n",
       "</div>"
      ],
      "text/plain": [
       "   doc_id  standard_value standard_type standard_relation  pchembl  molregno  \\\n",
       "0   47181            1.50          IC50                 =     8.82    459679   \n",
       "1   30088        29000.00          IC50                 =     4.54    655811   \n",
       "2   47295         1520.00          IC50                 =     5.82    668808   \n",
       "3   46966            0.23          IC50                 =     9.64    522778   \n",
       "4   62387        23000.00          IC50                 =     4.64   1347407   \n",
       "\n",
       "                                    canonical_smiles      chembl_id  \\\n",
       "0  COc1ccc(NC(=O)c2ccc(C(=N)N(C)C)cc2)c(C(=O)Nc2c...   CHEMBL512351   \n",
       "1  Cc1ccc(Oc2nc(Oc3cccc(C(=N)N)c3)c(F)c(NC(C)CCc3...   CHEMBL193933   \n",
       "2  N=C(N)c1ccc(CNC(=O)CN2C(=O)[C@H](NS(=O)(=O)Cc3...   CHEMBL553408   \n",
       "3  CC(C)CNC(=O)c1ccc(-c2ccc(-c3nccs3)cc2C(=O)Nc2c...   CHEMBL524548   \n",
       "4  O=C(Nc1ccc(N2CCOCC2=O)cc1)[C@H]1CCCCN1C(=O)Cc1...  CHEMBL2040990   \n",
       "\n",
       "   target_dictionary target_chembl_id      l1        l2               l3  \\\n",
       "0                194        CHEMBL244  Enzyme  Protease  Serine protease   \n",
       "1                194        CHEMBL244  Enzyme  Protease  Serine protease   \n",
       "2                194        CHEMBL244  Enzyme  Protease  Serine protease   \n",
       "3                194        CHEMBL244  Enzyme  Protease  Serine protease   \n",
       "4                194        CHEMBL244  Enzyme  Protease  Serine protease   \n",
       "\n",
       "   confidence_score       act  \\\n",
       "0                 8    Active   \n",
       "1                 9  Inactive   \n",
       "2                 9  Inactive   \n",
       "3                 8    Active   \n",
       "4                 9  Inactive   \n",
       "\n",
       "                                    processed_smiles  is_valid  \n",
       "0  COc1ccc(NC(=O)c2ccc(C(=N)N(C)C)cc2)c(C(=O)Nc2c...     False  \n",
       "1  Cc1ccc(Oc2nc(Oc3cccc(C(=N)N)c3)c(F)c(NC(C)CCc3...     False  \n",
       "2  N=C(N)c1ccc(CNC(=O)CN2C(=O)[C@H](NS(=O)(=O)Cc3...     False  \n",
       "3  CC(C)CNC(=O)c1ccc(-c2ccc(-c3nccs3)cc2C(=O)Nc2c...     False  \n",
       "4  O=C(Nc1ccc(N2CCOCC2=O)cc1)[C@H]1CCCCN1C(=O)Cc1...     False  "
      ]
     },
     "execution_count": 23,
     "metadata": {},
     "output_type": "execute_result"
    }
   ],
   "source": [
    "data = pd.read_csv('../data/fxa_ic50_processed.csv',sep=';')\n",
    "data.head()"
   ]
  },
  {
   "cell_type": "code",
   "execution_count": 24,
   "metadata": {},
   "outputs": [],
   "source": [
    "smiles = data.processed_smiles.tolist()"
   ]
  },
  {
   "cell_type": "code",
   "execution_count": 30,
   "metadata": {},
   "outputs": [
    {
     "data": {
      "text/plain": [
       "['COc1ccc(NC(=O)c2ccc(C(=N)N(C)C)cc2)c(C(=O)Nc2ccc(Cl)cn2)c1',\n",
       " 'Cc1ccc(Oc2nc(Oc3cccc(C(=N)N)c3)c(F)c(NC(C)CCc3ccccc3)c2F)c(C(=O)O)c1',\n",
       " 'N=C(N)c1ccc(CNC(=O)CN2C(=O)[C@H](NS(=O)(=O)Cc3ccccc3)CSc3ccc(N)cc32)cc1',\n",
       " 'CC(C)CNC(=O)c1ccc(-c2ccc(-c3nccs3)cc2C(=O)Nc2ccc(C(=N)N)cc2)c(C(=O)O)c1',\n",
       " 'O=C(Nc1ccc(N2CCOCC2=O)cc1)[C@H]1CCCCN1C(=O)Cc1ccc(Cl)cc1',\n",
       " 'Cn1cc(NS(=O)(=O)Cc2ccccc2)c(=O)n(CC(=O)N[C@H]2CCCN(C(=N)N)C2O)c1=O',\n",
       " 'CN(Cc1ccc(C(=O)Nc2ccc(Cl)cc2C(=O)Nc2ccc(Cl)cn2)cc1)C1=NCCS1',\n",
       " 'NC(N)=NCCC[C@@H](C=O)NC(=O)[C@@H]1CCCN1C(=O)[C@H](N)c1ccccc1',\n",
       " 'CC(C)(C)C[C@H](NC(=O)[C@@H](Cc1ccccc1)NS(=O)(=O)Cc1ccccc1)C(=O)N[C@@H](CCCN=C(N)N)C(=O)c1nccs1',\n",
       " 'CC(C)[C@H](NC(=O)[C@H](CC1CCCCC1)NC(=O)N[C@H](C)c1ccc(Br)cc1)C(=O)N[C@@H](CCCNC(=N)N)C(=O)c1nccs1',\n",
       " 'CN(C)C(=N)c1ccc(C(=O)Nc2ccc(Cl)cc2C(=O)Nc2ccc(Cl)cn2)c(N2CCCC2)c1',\n",
       " 'Cc1cc(C(=O)Nc2ccc(N3CCN(C)CC3)cc2)n(-c2ccc3cc(Cl)ccc3c2)n1',\n",
       " 'N=C(N)C1CCC[C@H](NC(=O)CN2CCC[C@H](NS(=O)(=O)CCc3ccccc3)C2=O)C1O',\n",
       " 'CCCC(CCC)C(=O)N[C@@H](CC(=O)OC)C(=O)N1CCC[C@@H]1C(=O)N[C@H]1CCCC(C(=N)N)C1O',\n",
       " 'O=C(CN1CCC[C@H](NS(=O)(=O)c2cc3cc(Cl)ccc3s2)C1=O)N1CCCC1',\n",
       " 'CN1CCc2nc(C(=O)NC3CCN(S(C)(=O)=O)CC3NC(=O)c3cc4cc(Cl)ccc4[nH]3)sc2C1',\n",
       " 'N=C(c1ccc(CN2CCN(S(=O)(=O)c3cc4ccc(Cl)cc4s3)CC2=O)cc1)N1CCCCC1',\n",
       " 'CN(C(=O)[C@@H]1Cc2ccccc2CN1C(=O)Cc1ccc(Cl)cc1Cl)c1ccc(N2CCCCC2=O)cc1',\n",
       " 'CN1CCc2nc(C(=O)N[C@@H]3C[C@@H](C(=O)N(C)C)CC[C@@H]3NC(=O)c3cc4ccc(Cl)cc4[nH]c3=O)sc2C1',\n",
       " 'O=C(NC[C@@H]1OC(=O)N2c3ccc(N4CCOCC4=O)cc3OC[C@@H]12)c1cc(Cl)c(Cl)s1']"
      ]
     },
     "execution_count": 30,
     "metadata": {},
     "output_type": "execute_result"
    }
   ],
   "source": [
    "smiles[0:20]"
   ]
  },
  {
   "cell_type": "markdown",
   "metadata": {},
   "source": [
    "# Fingerprinter"
   ]
  },
  {
   "cell_type": "code",
   "execution_count": 25,
   "metadata": {},
   "outputs": [],
   "source": [
    "#export\n",
    "class MACCSGenerator(DescriptorGenerator):\n",
    "    \"\"\"Computes MACCS bitvector\"\"\"\n",
    "    NAME = \"MACCS\"\n",
    "    def __init__(self):\n",
    "            \n",
    "        DescriptorGenerator.__init__(self)\n",
    "        # specify names and numpy types for all columns\n",
    "        maccs = [(\"maccs-%d\"%d, np.uint8) for d in range(166)]\n",
    "        self.columns += maccs\n",
    "\n",
    "    def calculateMol(self, m, smiles, internalParsing=False):\n",
    "        counts = list(GetMACCSKeysFingerprint(m))[1: ]\n",
    "        return counts       \n",
    "    \n",
    "\n",
    "class Fingerprinter():\n",
    "    def __init__(self, smiles):\n",
    "        self.smiles = smiles\n",
    "        \n",
    "        \n",
    "    def _define_generators(self, gen, **kwargs):\n",
    "    \n",
    "        '''Define feature generator.\n",
    "\n",
    "        Arguments:\n",
    "        gen : str\n",
    "            Name of the generator to use. Options: \n",
    "\n",
    "            ecfp : Morgan fingerprints (extended connectivity fingerprint)\n",
    "            fcfp : Feature-based Morgan fingerprints (functional connectivity fingerprint)\n",
    "            atom_pairs : Atom pairs as defined in https://pubs.acs.org/doi/10.1021/ci00046a002\n",
    "\n",
    "        nbits : int\n",
    "            Final number of bits in the fingerprint\n",
    "\n",
    "        radius : int\n",
    "            Radius around central atom to calculate Morgan fingerprints'''\n",
    "    \n",
    "        radius = kwargs.get('radius', 3)\n",
    "        nbits = kwargs.get('nbits', 2048)\n",
    "\n",
    "\n",
    "        if gen == 'ecfp':\n",
    "            feature_generator = Morgan(radius=radius,nbits=nbits)\n",
    "            \n",
    "        elif gen == 'atom_pairs':\n",
    "            feature_generator = AtomPairCounts(nbits=nbits)\n",
    "            \n",
    "        elif gen == 'fcfp':\n",
    "            feature_generator = FeatureMorgan(radius=radius,nbits=nbits)\n",
    "            \n",
    "        elif gen == 'maccs':\n",
    "            feature_generator = MACCSGenerator()\n",
    "            \n",
    "        return feature_generator \n",
    "\n",
    "\n",
    "    def generate_fingerprint(self, gen, **kwargs):\n",
    "        '''Calculate features for a list of SMILES using a feature generator.\n",
    "\n",
    "        Arguments:\n",
    "        gen : str\n",
    "            Name of the generator to use. Options: \n",
    "\n",
    "            ecfp : Morgan fingerprints (extended connectivity fingerprint)\n",
    "            fcfp : Feature-based Morgan fingerprints (functional connectivity fingerprint)\n",
    "            atom_pairs : Atom pairs as defined in https://pubs.acs.org/doi/10.1021/ci00046a002\n",
    "\n",
    "\n",
    "        nbits : int\n",
    "            Final number of bits in the fingerprint\n",
    "\n",
    "        radius : int\n",
    "            Radius around central atom to calculate Morgan fingerprints'''\n",
    "    \n",
    "        if not isinstance(gen, str):\n",
    "            raise TypeError('Please provide a string that represents a valid generator name.')\n",
    "\n",
    "        if gen not in ['maccs','ecfp', 'fcfp', 'atom_pairs','maccs']:\n",
    "            raise ValueError(\"Please provide a valid generator. Viable options are: 'maccs','ecfp', 'fcfp', 'atom_pairs'\")\n",
    "\n",
    "        \n",
    "        feature_generator = self._define_generators(gen=gen, **kwargs)\n",
    "        return np.array(feature_generator.processSmiles(self.smiles)[1])[:, 1:]\n",
    "    \n",
    "        \n",
    "    def __len__(self): \n",
    "        return len(self.smiles)\n",
    "    \n",
    "    def __getitem__(self, i):\n",
    "        return self.smiles[i]\n",
    "    \n",
    "    def __str__(self):\n",
    "        return 'Size of SMILES dataset: {}\\nFirst SMILES: {}'.format(len(self.smiles), self.smiles[0])"
   ]
  },
  {
   "cell_type": "code",
   "execution_count": 26,
   "metadata": {},
   "outputs": [],
   "source": [
    "fp_class = Fingerprinter(smiles)"
   ]
  },
  {
   "cell_type": "code",
   "execution_count": 27,
   "metadata": {},
   "outputs": [
    {
     "name": "stdout",
     "output_type": "stream",
     "text": [
      "Size of SMILES dataset: 2129\n",
      "First SMILES: COc1ccc(NC(=O)c2ccc(C(=N)N(C)C)cc2)c(C(=O)Nc2ccc(Cl)cn2)c1\n"
     ]
    }
   ],
   "source": [
    "print(fp_class)"
   ]
  },
  {
   "cell_type": "code",
   "execution_count": 28,
   "metadata": {},
   "outputs": [],
   "source": [
    "X = fp_class.generate_fingerprint(gen='atom_pairs')"
   ]
  },
  {
   "cell_type": "code",
   "execution_count": 29,
   "metadata": {},
   "outputs": [
    {
     "data": {
      "text/plain": [
       "(2129, 2048)"
      ]
     },
     "execution_count": 29,
     "metadata": {},
     "output_type": "execute_result"
    }
   ],
   "source": [
    "X.shape"
   ]
  },
  {
   "cell_type": "code",
   "execution_count": 31,
   "metadata": {},
   "outputs": [
    {
     "data": {
      "text/plain": [
       "array([[0, 0, 0, ..., 0, 0, 0],\n",
       "       [0, 0, 0, ..., 0, 1, 0],\n",
       "       [0, 1, 0, ..., 0, 0, 0],\n",
       "       [0, 0, 0, ..., 0, 0, 0],\n",
       "       [0, 0, 0, ..., 0, 1, 0]])"
      ]
     },
     "execution_count": 31,
     "metadata": {},
     "output_type": "execute_result"
    }
   ],
   "source": [
    "X[0:5]"
   ]
  },
  {
   "cell_type": "code",
   "execution_count": null,
   "metadata": {},
   "outputs": [],
   "source": []
  }
 ],
 "metadata": {
  "kernelspec": {
   "display_name": "Python 3",
   "language": "python",
   "name": "python3"
  },
  "language_info": {
   "codemirror_mode": {
    "name": "ipython",
    "version": 3
   },
   "file_extension": ".py",
   "mimetype": "text/x-python",
   "name": "python",
   "nbconvert_exporter": "python",
   "pygments_lexer": "ipython3",
   "version": "3.8.8"
  }
 },
 "nbformat": 4,
 "nbformat_minor": 4
}
