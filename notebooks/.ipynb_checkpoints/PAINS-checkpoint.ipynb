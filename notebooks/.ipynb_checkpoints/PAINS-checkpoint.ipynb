{
 "cells": [
  {
   "cell_type": "markdown",
   "id": "d2f217f2",
   "metadata": {},
   "source": [
    "# PAINS filtering\n",
    "\n",
    "> This notebook will implement a class to filter PAINS off a dataset"
   ]
  },
  {
   "cell_type": "code",
   "execution_count": 1,
   "id": "0a10425e",
   "metadata": {},
   "outputs": [
    {
     "name": "stdout",
     "output_type": "stream",
     "text": [
      "Author: Marcos Santana\n",
      "\n",
      "Python implementation: CPython\n",
      "Python version       : 3.8.8\n",
      "IPython version      : 7.22.0\n",
      "\n",
      "numpy : 1.20.1\n",
      "pandas: 1.2.4\n",
      "rdkit : 2021.03.5\n",
      "\n"
     ]
    }
   ],
   "source": [
    "#hide\n",
    "%reload_ext autoreload\n",
    "%autoreload 2\n",
    "%load_ext watermark\n",
    "%watermark -a 'Marcos Santana' -d -p numpy,pandas,rdkit -v"
   ]
  },
  {
   "cell_type": "code",
   "execution_count": 5,
   "id": "4120c5e9",
   "metadata": {},
   "outputs": [],
   "source": [
    "from rdkit.Chem.FilterCatalog import *\n",
    "from rdkit import Chem\n",
    "\n",
    "import pandas as pd\n",
    "import numpy as np"
   ]
  },
  {
   "cell_type": "markdown",
   "id": "de61b5dc",
   "metadata": {},
   "source": [
    "# Load data"
   ]
  },
  {
   "cell_type": "code",
   "execution_count": 6,
   "id": "f03b92f9",
   "metadata": {},
   "outputs": [],
   "source": [
    "data = pd.read_csv('../data/FXA_CHEMBL.csv')"
   ]
  },
  {
   "cell_type": "code",
   "execution_count": 11,
   "id": "20caab7f",
   "metadata": {},
   "outputs": [
    {
     "data": {
      "text/plain": [
       "Index(['Molecule ChEMBL ID', 'Molecule Name', 'Molecule Max Phase',\n",
       "       'Molecular Weight', '#RO5 Violations', 'AlogP', 'Compound Key',\n",
       "       'Smiles', 'Standard Type', 'Standard Relation', 'Standard Value',\n",
       "       'Standard Units', 'pChEMBL Value', 'Data Validity Comment', 'Comment',\n",
       "       'Uo Units', 'Ligand Efficiency BEI', 'Ligand Efficiency LE',\n",
       "       'Ligand Efficiency LLE', 'Ligand Efficiency SEI', 'Potential Duplicate',\n",
       "       'Assay ChEMBL ID', 'Assay Description', 'Assay Type', 'BAO Format ID',\n",
       "       'BAO Label', 'Assay Organism', 'Assay Tissue ChEMBL ID',\n",
       "       'Assay Tissue Name', 'Assay Cell Type', 'Assay Subcellular Fraction',\n",
       "       'Assay Parameters', 'Assay Variant Accession', 'Assay Variant Mutation',\n",
       "       'Target ChEMBL ID', 'Target Name', 'Target Organism', 'Target Type',\n",
       "       'Document ChEMBL ID', 'Source ID', 'Source Description',\n",
       "       'Document Journal', 'Document Year', 'Cell ChEMBL ID', 'Properties'],\n",
       "      dtype='object')"
      ]
     },
     "execution_count": 11,
     "metadata": {},
     "output_type": "execute_result"
    }
   ],
   "source": [
    "data.head()\n",
    "data.columns"
   ]
  },
  {
   "cell_type": "code",
   "execution_count": 14,
   "id": "e20c3bf1",
   "metadata": {},
   "outputs": [],
   "source": [
    "def _pains():\n",
    "    '''Define PAINS substructures'''\n",
    "    params = FilterCatalogParams()\n",
    "    params.AddCatalog(FilterCatalogParams.FilterCatalogs.PAINS_A)\n",
    "    params.AddCatalog(FilterCatalogParams.FilterCatalogs.PAINS_B)\n",
    "    params.AddCatalog(FilterCatalogParams.FilterCatalogs.PAINS_C)\n",
    "    catalog = FilterCatalog(params)\n",
    "    return catalog\n",
    "\n",
    "def pains_filter(mol):\n",
    "    \n",
    "    params = _pains()\n",
    "    \n",
    "    '''Identify PAINS among a set of molecules\n",
    "    \n",
    "    Arguments:\n",
    "    \n",
    "    mol : rdchem.Mol or str\n",
    "    \n",
    "        RDKit mol object or SMILES representing a molecule\n",
    "        \n",
    "    Returns:\n",
    "        pains_name : str\n",
    "            PAINS identifier\n",
    "            \n",
    "    '''\n",
    "    \n",
    "    assert params.GetNumEntries() == 480\n",
    "    \n",
    "    try:\n",
    "        if not isinstance(mol, Chem.rdchem.Mol): mol = Chem.MolFromSmiles(mol)\n",
    "        entry = params.GetFirstMatch(mol)\n",
    "        if entry:\n",
    "            pains_name = entry.GetDescription()\n",
    "            return pains_name\n",
    "    except:\n",
    "        pass"
   ]
  },
  {
   "cell_type": "code",
   "execution_count": 15,
   "id": "9c6e8b6d",
   "metadata": {},
   "outputs": [],
   "source": [
    "data.loc[:, 'PAINS'] = data['Smiles'].apply(pains_filter)"
   ]
  },
  {
   "cell_type": "code",
   "execution_count": 23,
   "id": "802b6bef",
   "metadata": {},
   "outputs": [
    {
     "data": {
      "text/html": [
       "<div>\n",
       "<style scoped>\n",
       "    .dataframe tbody tr th:only-of-type {\n",
       "        vertical-align: middle;\n",
       "    }\n",
       "\n",
       "    .dataframe tbody tr th {\n",
       "        vertical-align: top;\n",
       "    }\n",
       "\n",
       "    .dataframe thead th {\n",
       "        text-align: right;\n",
       "    }\n",
       "</style>\n",
       "<table border=\"1\" class=\"dataframe\">\n",
       "  <thead>\n",
       "    <tr style=\"text-align: right;\">\n",
       "      <th></th>\n",
       "      <th>Smiles</th>\n",
       "      <th>PAINS</th>\n",
       "    </tr>\n",
       "  </thead>\n",
       "  <tbody>\n",
       "    <tr>\n",
       "      <th>0</th>\n",
       "      <td>O=C1CN(S(=O)(=O)c2cc3ccc(Cl)cc3s2)CCN1Cc1cc2cn...</td>\n",
       "      <td>None</td>\n",
       "    </tr>\n",
       "    <tr>\n",
       "      <th>1</th>\n",
       "      <td>O=C(CN1CCN(S(=O)(=O)c2cc3ccc(Cl)cc3s2)CC1=O)NC...</td>\n",
       "      <td>None</td>\n",
       "    </tr>\n",
       "    <tr>\n",
       "      <th>2</th>\n",
       "      <td>C[C@H]1CC[C@@H](Oc2cccc(-c3nc4cc(C(=N)N)c(F)cc...</td>\n",
       "      <td>None</td>\n",
       "    </tr>\n",
       "    <tr>\n",
       "      <th>3</th>\n",
       "      <td>COc1cccc(S(=O)(=O)Nc2cccn(CC(=O)NCc3ccc(C(=N)N...</td>\n",
       "      <td>None</td>\n",
       "    </tr>\n",
       "    <tr>\n",
       "      <th>4</th>\n",
       "      <td>Cc1cc(C(=O)Nc2ccc(-c3ccccc3S(N)(=O)=O)cc2)n(-c...</td>\n",
       "      <td>None</td>\n",
       "    </tr>\n",
       "    <tr>\n",
       "      <th>...</th>\n",
       "      <td>...</td>\n",
       "      <td>...</td>\n",
       "    </tr>\n",
       "    <tr>\n",
       "      <th>4083</th>\n",
       "      <td>Cc1ccc2c(c1)c(C)c1n2C[C@@](NC(=O)c2c(Cl)cc(-n3...</td>\n",
       "      <td>indol_3yl_alk(461)</td>\n",
       "    </tr>\n",
       "    <tr>\n",
       "      <th>4084</th>\n",
       "      <td>N=C(N)c1ccc(CNC(=O)[C@@H]2Cc3ccc(cc3)NC(=O)CCN...</td>\n",
       "      <td>None</td>\n",
       "    </tr>\n",
       "    <tr>\n",
       "      <th>4085</th>\n",
       "      <td>NCc1ccc(CNC(=O)[C@@H]2Cc3ccc(cc3)NC(=O)CCN3CCN...</td>\n",
       "      <td>None</td>\n",
       "    </tr>\n",
       "    <tr>\n",
       "      <th>4086</th>\n",
       "      <td>N=C(N)c1ccc(Oc2cccc(Oc3ccc(C(=N)N)cc3)n2)cc1</td>\n",
       "      <td>None</td>\n",
       "    </tr>\n",
       "    <tr>\n",
       "      <th>4087</th>\n",
       "      <td>CCC(=O)N1CCC(CC[C@@H](NS(=O)(=O)Cc2ccccc2)C(=O...</td>\n",
       "      <td>None</td>\n",
       "    </tr>\n",
       "  </tbody>\n",
       "</table>\n",
       "<p>4088 rows × 2 columns</p>\n",
       "</div>"
      ],
      "text/plain": [
       "                                                 Smiles               PAINS\n",
       "0     O=C1CN(S(=O)(=O)c2cc3ccc(Cl)cc3s2)CCN1Cc1cc2cn...                None\n",
       "1     O=C(CN1CCN(S(=O)(=O)c2cc3ccc(Cl)cc3s2)CC1=O)NC...                None\n",
       "2     C[C@H]1CC[C@@H](Oc2cccc(-c3nc4cc(C(=N)N)c(F)cc...                None\n",
       "3     COc1cccc(S(=O)(=O)Nc2cccn(CC(=O)NCc3ccc(C(=N)N...                None\n",
       "4     Cc1cc(C(=O)Nc2ccc(-c3ccccc3S(N)(=O)=O)cc2)n(-c...                None\n",
       "...                                                 ...                 ...\n",
       "4083  Cc1ccc2c(c1)c(C)c1n2C[C@@](NC(=O)c2c(Cl)cc(-n3...  indol_3yl_alk(461)\n",
       "4084  N=C(N)c1ccc(CNC(=O)[C@@H]2Cc3ccc(cc3)NC(=O)CCN...                None\n",
       "4085  NCc1ccc(CNC(=O)[C@@H]2Cc3ccc(cc3)NC(=O)CCN3CCN...                None\n",
       "4086       N=C(N)c1ccc(Oc2cccc(Oc3ccc(C(=N)N)cc3)n2)cc1                None\n",
       "4087  CCC(=O)N1CCC(CC[C@@H](NS(=O)(=O)Cc2ccccc2)C(=O...                None\n",
       "\n",
       "[4088 rows x 2 columns]"
      ]
     },
     "execution_count": 23,
     "metadata": {},
     "output_type": "execute_result"
    }
   ],
   "source": [
    "data[['Smiles','PAINS']]"
   ]
  },
  {
   "cell_type": "code",
   "execution_count": 21,
   "id": "8ff7c3c3",
   "metadata": {},
   "outputs": [
    {
     "data": {
      "text/plain": [
       "PAINS\n",
       "anil_di_alk_A(478)       55\n",
       "anil_di_alk_C(246)       24\n",
       "anil_di_alk_E(186)       30\n",
       "anil_no_alk(40)          18\n",
       "catechol_A(92)            7\n",
       "dyes5A(27)                2\n",
       "ene_one_ene_A(57)        49\n",
       "het_pyridiniums_A(39)     1\n",
       "indol_3yl_alk(461)       10\n",
       "mannich_A(296)           12\n",
       "quinone_A(370)            5\n",
       "thiophene_hydroxy(28)     1\n",
       "Name: PAINS, dtype: int64"
      ]
     },
     "execution_count": 21,
     "metadata": {},
     "output_type": "execute_result"
    }
   ],
   "source": [
    "data.groupby('PAINS')['PAINS'].count()"
   ]
  }
 ],
 "metadata": {
  "kernelspec": {
   "display_name": "Python 3",
   "language": "python",
   "name": "python3"
  },
  "language_info": {
   "codemirror_mode": {
    "name": "ipython",
    "version": 3
   },
   "file_extension": ".py",
   "mimetype": "text/x-python",
   "name": "python",
   "nbconvert_exporter": "python",
   "pygments_lexer": "ipython3",
   "version": "3.8.8"
  }
 },
 "nbformat": 4,
 "nbformat_minor": 5
}
