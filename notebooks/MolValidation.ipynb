{
 "cells": [
  {
   "cell_type": "code",
   "execution_count": 17,
   "id": "d6e97257",
   "metadata": {},
   "outputs": [],
   "source": [
    "#export\n",
    "from rdkit.Chem import MolFromSmiles as smi2mol\n",
    "from rdkit.Chem import MolToSmiles as mol2smi\n",
    "from rdkit.Chem import rdchem"
   ]
  },
  {
   "cell_type": "code",
   "execution_count": 35,
   "id": "1c04dba0",
   "metadata": {},
   "outputs": [],
   "source": [
    "from exp.Fingerprinter import *"
   ]
  },
  {
   "cell_type": "code",
   "execution_count": 2,
   "id": "c6e251f0",
   "metadata": {},
   "outputs": [],
   "source": [
    "import pandas as pd"
   ]
  },
  {
   "cell_type": "code",
   "execution_count": 3,
   "id": "7619b515",
   "metadata": {},
   "outputs": [],
   "source": [
    "data = pd.read_csv('/home/marcossantana/Documentos/GitHub/ADMETBox/data/PGP/Metrabase/trainset.csv')"
   ]
  },
  {
   "cell_type": "code",
   "execution_count": 4,
   "id": "66f05769",
   "metadata": {},
   "outputs": [],
   "source": [
    "smiles = data.processed_smiles.tolist()"
   ]
  },
  {
   "cell_type": "code",
   "execution_count": 18,
   "id": "aaf3236b",
   "metadata": {},
   "outputs": [],
   "source": [
    "def validate_molecule(mol):\n",
    "    if isinstance(mol, rdchem.Mol):\n",
    "        return mol  \n",
    "    \n",
    "def generate_molecule(smi):\n",
    "    mol = smi2mol(smi)\n",
    "    return mol\n",
    "\n",
    "def mol_batch_generator(smi_list):\n",
    "    mols = []\n",
    "    for smiles in smi_list:\n",
    "        try:\n",
    "            mol = generate_molecule(smiles)\n",
    "            mols.append(mol)\n",
    "        except:\n",
    "            continue\n",
    "            \n",
    "    yield mols"
   ]
  },
  {
   "cell_type": "code",
   "execution_count": 19,
   "id": "aef7bfd3",
   "metadata": {},
   "outputs": [],
   "source": [
    "mols = mol_batch_generator(smiles)"
   ]
  },
  {
   "cell_type": "code",
   "execution_count": 34,
   "id": "479b1a57",
   "metadata": {},
   "outputs": [],
   "source": [
    "class MoleculeDataset():\n",
    "        \n",
    "    '''Base class to store and process SMILES datasets.\n",
    "\n",
    "        Arguments:\n",
    "        smiles : list\n",
    "            List of SMILES to store for further actions\n",
    "            '''\n",
    "\n",
    "        \n",
    "    def __init__(self, smiles):\n",
    "        self.smiles = smiles\n",
    "\n",
    "    def generate_molecule(self, smi):\n",
    "        mol = smi2mol(smi)\n",
    "        return mol\n",
    "\n",
    "    def process_mols(self):\n",
    "        mols = []\n",
    "        for smiles in self.smiles:\n",
    "            try:\n",
    "                mol = self.generate_molecule(smiles)\n",
    "                mols.append(mol)\n",
    "            except:\n",
    "                continue\n",
    "\n",
    "        yield mols\n",
    "        \n",
    "    def __str__(self):\n",
    "        return f'Number of SMILES: {len(self.smiles)}'\n",
    "    \n",
    "    def __len__(self):\n",
    "        return len(self.smiles)"
   ]
  },
  {
   "cell_type": "code",
   "execution_count": 31,
   "id": "48f1f878",
   "metadata": {},
   "outputs": [],
   "source": [
    "moldst = MoleculeDataset(smiles)"
   ]
  },
  {
   "cell_type": "code",
   "execution_count": 32,
   "id": "6f6d2c90",
   "metadata": {},
   "outputs": [
    {
     "name": "stdout",
     "output_type": "stream",
     "text": [
      "Number of SMILES 766\n"
     ]
    }
   ],
   "source": [
    "print(moldst)"
   ]
  },
  {
   "cell_type": "code",
   "execution_count": 33,
   "id": "b9d4dcfa",
   "metadata": {},
   "outputs": [
    {
     "data": {
      "text/plain": [
       "766"
      ]
     },
     "execution_count": 33,
     "metadata": {},
     "output_type": "execute_result"
    }
   ],
   "source": [
    "len(moldst)"
   ]
  },
  {
   "cell_type": "code",
   "execution_count": null,
   "id": "149323ef",
   "metadata": {},
   "outputs": [],
   "source": []
  }
 ],
 "metadata": {
  "kernelspec": {
   "display_name": "Python 3",
   "language": "python",
   "name": "python3"
  },
  "language_info": {
   "codemirror_mode": {
    "name": "ipython",
    "version": 3
   },
   "file_extension": ".py",
   "mimetype": "text/x-python",
   "name": "python",
   "nbconvert_exporter": "python",
   "pygments_lexer": "ipython3",
   "version": "3.8.8"
  }
 },
 "nbformat": 4,
 "nbformat_minor": 5
}
