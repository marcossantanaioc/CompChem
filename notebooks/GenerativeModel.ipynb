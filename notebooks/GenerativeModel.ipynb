{
 "cells": [
  {
   "cell_type": "code",
   "execution_count": 1,
   "id": "117521b3",
   "metadata": {},
   "outputs": [
    {
     "name": "stdout",
     "output_type": "stream",
     "text": [
      "Author: Marcos Santana\n",
      "\n",
      "Python implementation: CPython\n",
      "Python version       : 3.8.8\n",
      "IPython version      : 7.22.0\n",
      "\n",
      "numpy : 1.20.1\n",
      "pandas: 1.2.4\n",
      "rdkit : 2021.03.5\n",
      "fastai: 2.5.2\n",
      "torch : 1.9.0\n",
      "\n"
     ]
    }
   ],
   "source": [
    "%matplotlib inline\n",
    "%reload_ext autoreload\n",
    "%autoreload 2\n",
    "%load_ext watermark\n",
    "%watermark -a 'Marcos Santana' -d -p numpy,pandas,rdkit,fastai,torch -v"
   ]
  },
  {
   "cell_type": "code",
   "execution_count": 2,
   "id": "68f8725a",
   "metadata": {},
   "outputs": [],
   "source": [
    "import pandas as pd\n",
    "import numpy as np\n",
    "from fastai.text.all import *"
   ]
  },
  {
   "cell_type": "markdown",
   "id": "72868706",
   "metadata": {},
   "source": [
    "# Load data"
   ]
  },
  {
   "cell_type": "code",
   "execution_count": 20,
   "id": "eac27d47",
   "metadata": {},
   "outputs": [],
   "source": [
    "data = pd.read_csv('../data/LSTM_pretraining_data.txt',header=None,names=['Smiles']).sample(n=10000)"
   ]
  },
  {
   "cell_type": "code",
   "execution_count": 21,
   "id": "0980bd11",
   "metadata": {},
   "outputs": [
    {
     "data": {
      "text/html": [
       "<div>\n",
       "<style scoped>\n",
       "    .dataframe tbody tr th:only-of-type {\n",
       "        vertical-align: middle;\n",
       "    }\n",
       "\n",
       "    .dataframe tbody tr th {\n",
       "        vertical-align: top;\n",
       "    }\n",
       "\n",
       "    .dataframe thead th {\n",
       "        text-align: right;\n",
       "    }\n",
       "</style>\n",
       "<table border=\"1\" class=\"dataframe\">\n",
       "  <thead>\n",
       "    <tr style=\"text-align: right;\">\n",
       "      <th></th>\n",
       "      <th>Smiles</th>\n",
       "    </tr>\n",
       "  </thead>\n",
       "  <tbody>\n",
       "    <tr>\n",
       "      <th>157271</th>\n",
       "      <td>CC(C(=O)Nc1ccc(CCN2CCOC2=O)cc1)c1cccs1</td>\n",
       "    </tr>\n",
       "    <tr>\n",
       "      <th>446736</th>\n",
       "      <td>Cc1[nH]nc(C(=O)N2CCCCCCC2)c1[N+](=O)[O-]</td>\n",
       "    </tr>\n",
       "    <tr>\n",
       "      <th>129818</th>\n",
       "      <td>O=C(NNC(=O)c1ccccc1SC(F)F)c1ccccc1O</td>\n",
       "    </tr>\n",
       "    <tr>\n",
       "      <th>341374</th>\n",
       "      <td>CNC(=S)N(Cc1ccc(F)cc1)Cc1cc2cc(C)ccc2[nH]c1=O</td>\n",
       "    </tr>\n",
       "    <tr>\n",
       "      <th>51659</th>\n",
       "      <td>COC(=O)C(=Cc1ccc([N+](=O)[O-])cc1)NC(=O)c1ccc(C)cc1</td>\n",
       "    </tr>\n",
       "  </tbody>\n",
       "</table>\n",
       "</div>"
      ],
      "text/plain": [
       "                                                     Smiles\n",
       "157271               CC(C(=O)Nc1ccc(CCN2CCOC2=O)cc1)c1cccs1\n",
       "446736             Cc1[nH]nc(C(=O)N2CCCCCCC2)c1[N+](=O)[O-]\n",
       "129818                  O=C(NNC(=O)c1ccccc1SC(F)F)c1ccccc1O\n",
       "341374        CNC(=S)N(Cc1ccc(F)cc1)Cc1cc2cc(C)ccc2[nH]c1=O\n",
       "51659   COC(=O)C(=Cc1ccc([N+](=O)[O-])cc1)NC(=O)c1ccc(C)cc1"
      ]
     },
     "execution_count": 21,
     "metadata": {},
     "output_type": "execute_result"
    }
   ],
   "source": [
    "data.head()"
   ]
  },
  {
   "cell_type": "markdown",
   "id": "80c78fe6",
   "metadata": {},
   "source": [
    "# Tokenizer\n",
    "\n",
    "We'll use a custom tokenizer to split each SMILES into individual characters. Two-lettered elements and special enviroments (e.g. [C@@]) will remain as a single tokens."
   ]
  },
  {
   "cell_type": "code",
   "execution_count": 22,
   "id": "a703dd19",
   "metadata": {},
   "outputs": [],
   "source": [
    "import re\n",
    "\n",
    "class MolTokenizer_V2():\n",
    "\n",
    "  def tokenize_mols(self, t):\n",
    "    BOS = 'xxbos'\n",
    "    pat = '(\\[.*?\\])' # Find special enviroments (e.g., [CH],[NH] etc)\n",
    "    tokens = []\n",
    "    t = t.replace('Br','L').replace('Cl','X') # Replace halogens\n",
    "    atom_list = re.split(pat,t)\n",
    "    for s in atom_list:\n",
    "      if s.startswith('['):\n",
    "        tokens.append(s)\n",
    "      else:\n",
    "        tokens += [x for x in list(s)]\n",
    "    tokens = [x.replace('L','Br').replace('X','Cl') for x in tokens] # Decode halogens\n",
    "    return [BOS] + tokens\n",
    "\n",
    "  def __call__(self, items): return (self.tokenize_mols(t) for t in items)"
   ]
  },
  {
   "cell_type": "markdown",
   "id": "cc5722c8",
   "metadata": {},
   "source": [
    "**Testing the tokenizer**"
   ]
  },
  {
   "cell_type": "code",
   "execution_count": 23,
   "id": "67201335",
   "metadata": {},
   "outputs": [],
   "source": [
    "tok = Tokenizer(tok=MolTokenizer_V2(),rules=[]) # Fastai has a very handy wrapper Tokenizer class. "
   ]
  },
  {
   "cell_type": "code",
   "execution_count": 24,
   "id": "3ed05a9e",
   "metadata": {},
   "outputs": [],
   "source": [
    "tokens = L(data.Smiles.tolist()[0:10]).map(tok)"
   ]
  },
  {
   "cell_type": "code",
   "execution_count": 25,
   "id": "3c02ac71",
   "metadata": {},
   "outputs": [
    {
     "data": {
      "text/plain": [
       "'xxbos C C ( C ( = O ) N c 1 c c c ( C C N 2 C C O C 2 = O ) c c 1 ) c 1 c c c s 1'"
      ]
     },
     "execution_count": 25,
     "metadata": {},
     "output_type": "execute_result"
    }
   ],
   "source": [
    "' '.join(tokens[0])"
   ]
  },
  {
   "cell_type": "markdown",
   "id": "7d19d5c9",
   "metadata": {},
   "source": [
    "# Text dataloader"
   ]
  },
  {
   "cell_type": "code",
   "execution_count": 26,
   "id": "e7d9beb6",
   "metadata": {},
   "outputs": [
    {
     "data": {
      "text/html": [],
      "text/plain": [
       "<IPython.core.display.HTML object>"
      ]
     },
     "metadata": {},
     "output_type": "display_data"
    },
    {
     "name": "stderr",
     "output_type": "stream",
     "text": [
      "/home/marcossantana/anaconda3/lib/python3.8/site-packages/numpy/core/_asarray.py:102: VisibleDeprecationWarning: Creating an ndarray from ragged nested sequences (which is a list-or-tuple of lists-or-tuples-or ndarrays with different lengths or shapes) is deprecated. If you meant to do this, you must specify 'dtype=object' when creating the ndarray.\n",
      "  return array(a, dtype, copy=False, order=order)\n"
     ]
    }
   ],
   "source": [
    "splitter = RandomSplitter(0.10)\n",
    "spec_toks = [BOS, PAD]\n",
    "text_col = 'Smiles'\n",
    "tfms = [attrgetter(text_col),\n",
    "        Tokenizer.from_df(text_cols=text_col,tok=MolTokenizer_V2(),rules=[],tok_text_col=text_col),\n",
    "        Numericalize(min_freq = 1, special_toks=spec_toks)]\n",
    "dst = Datasets(data, tfms=[tfms], splits = splitter(data), dl_type=LMDataLoader)"
   ]
  },
  {
   "cell_type": "code",
   "execution_count": 27,
   "id": "383fbed0",
   "metadata": {},
   "outputs": [],
   "source": [
    "dls = dst.dataloaders(bs=64,seq_len=30)"
   ]
  },
  {
   "cell_type": "code",
   "execution_count": 28,
   "id": "f75d1c3c",
   "metadata": {},
   "outputs": [
    {
     "data": {
      "text/html": [
       "<table border=\"1\" class=\"dataframe\">\n",
       "  <thead>\n",
       "    <tr style=\"text-align: right;\">\n",
       "      <th></th>\n",
       "      <th>text</th>\n",
       "      <th>text_</th>\n",
       "    </tr>\n",
       "  </thead>\n",
       "  <tbody>\n",
       "    <tr>\n",
       "      <th>0</th>\n",
       "      <td>xxbos O = C ( C C 1 C C C C 1 ) O C c 1 n c 2 c c c c c 2 s 1 xxbos</td>\n",
       "      <td>O = C ( C C 1 C C C C 1 ) O C c 1 n c 2 c c c c c 2 s 1 xxbos C</td>\n",
       "    </tr>\n",
       "    <tr>\n",
       "      <th>1</th>\n",
       "      <td>c 1 c ( F ) c c c c 1 C ( = O ) N C ( C ) C ( = O ) O xxbos C O</td>\n",
       "      <td>1 c ( F ) c c c c 1 C ( = O ) N C ( C ) C ( = O ) O xxbos C O C</td>\n",
       "    </tr>\n",
       "    <tr>\n",
       "      <th>2</th>\n",
       "      <td>C 1 2 C C N ( C c 1 c n ( C ) c 3 c c c c c 1 3 ) C C 2 xxbos C</td>\n",
       "      <td>1 2 C C N ( C c 1 c n ( C ) c 3 c c c c c 1 3 ) C C 2 xxbos C C</td>\n",
       "    </tr>\n",
       "    <tr>\n",
       "      <th>3</th>\n",
       "      <td>C ( = O ) N C C N 2 C C C C C 2 C O ) c ( - c 2 c c c c c 2</td>\n",
       "      <td>( = O ) N C C N 2 C C C C C 2 C O ) c ( - c 2 c c c c c 2 )</td>\n",
       "    </tr>\n",
       "    <tr>\n",
       "      <th>4</th>\n",
       "      <td>c c c ( F ) c c 1 ) C 1 C C 1 ) N c 1 c c c ( F ) c c 1 Cl xxbos</td>\n",
       "      <td>c c ( F ) c c 1 ) C 1 C C 1 ) N c 1 c c c ( F ) c c 1 Cl xxbos C</td>\n",
       "    </tr>\n",
       "    <tr>\n",
       "      <th>5</th>\n",
       "      <td>O ) N c 1 c c c c c 1 O C ( = O ) C ( C # N ) = C c 1 c c c</td>\n",
       "      <td>) N c 1 c c c c c 1 O C ( = O ) C ( C # N ) = C c 1 c c c 2</td>\n",
       "    </tr>\n",
       "    <tr>\n",
       "      <th>6</th>\n",
       "      <td>C C ( = O ) N c 1 s c 2 c ( c 1 C ( = O ) O C C ( = O ) c 1</td>\n",
       "      <td>C ( = O ) N c 1 s c 2 c ( c 1 C ( = O ) O C C ( = O ) c 1 [nH]</td>\n",
       "    </tr>\n",
       "    <tr>\n",
       "      <th>7</th>\n",
       "      <td>) C N ( C ) C ( = O ) c 2 c c 3 c c c c c 3 [nH] 2 ) c 1 xxbos C c</td>\n",
       "      <td>C N ( C ) C ( = O ) c 2 c c 3 c c c c c 3 [nH] 2 ) c 1 xxbos C c 1</td>\n",
       "    </tr>\n",
       "    <tr>\n",
       "      <th>8</th>\n",
       "      <td>c c c c ( - c 2 c n c ( - c 3 c c n c c 3 ) n c 2 C 2 C C N</td>\n",
       "      <td>c c c ( - c 2 c n c ( - c 3 c c n c c 3 ) n c 2 C 2 C C N (</td>\n",
       "    </tr>\n",
       "  </tbody>\n",
       "</table>"
      ],
      "text/plain": [
       "<IPython.core.display.HTML object>"
      ]
     },
     "metadata": {},
     "output_type": "display_data"
    }
   ],
   "source": [
    "dls.show_batch()"
   ]
  },
  {
   "cell_type": "markdown",
   "id": "2354bbe8",
   "metadata": {},
   "source": [
    "# Train generative model\n",
    "\n",
    "We'll not use a pretrained model in this notebook. Let's just train from scratch. "
   ]
  },
  {
   "cell_type": "code",
   "execution_count": 29,
   "id": "ab4a4411",
   "metadata": {},
   "outputs": [],
   "source": [
    "metrics = [accuracy]"
   ]
  },
  {
   "cell_type": "code",
   "execution_count": 30,
   "id": "6dc32484",
   "metadata": {},
   "outputs": [],
   "source": [
    "learn = language_model_learner(dls, AWD_LSTM,pretrained=False,metrics=metrics,\n",
    "                               drop_mult=0.75)#.load_pretrained(pretrained_path,vocab_path)\n",
    "learn.unfreeze()"
   ]
  },
  {
   "cell_type": "markdown",
   "id": "e32e3a6f",
   "metadata": {},
   "source": [
    "**Learning rate finder**"
   ]
  },
  {
   "cell_type": "code",
   "execution_count": 31,
   "id": "f089703d",
   "metadata": {},
   "outputs": [
    {
     "data": {
      "text/html": [],
      "text/plain": [
       "<IPython.core.display.HTML object>"
      ]
     },
     "metadata": {},
     "output_type": "display_data"
    },
    {
     "data": {
      "text/plain": [
       "SuggestedLRs(valley=0.0003521005273796618)"
      ]
     },
     "execution_count": 31,
     "metadata": {},
     "output_type": "execute_result"
    },
    {
     "data": {
      "image/png": "[encoded data removed]",
      "text/plain": [
       "<Figure size 432x288 with 1 Axes>"
      ]
     },
     "metadata": {
      "needs_background": "light"
     },
     "output_type": "display_data"
    }
   ],
   "source": [
    "learn.lr_find(num_it=600)"
   ]
  },
  {
   "cell_type": "markdown",
   "id": "c5afbaf4",
   "metadata": {},
   "source": [
    "**Training using optimal learning rate**"
   ]
  },
  {
   "cell_type": "code",
   "execution_count": 34,
   "id": "9bdbec0a",
   "metadata": {},
   "outputs": [
    {
     "data": {
      "text/html": [
       "<table border=\"1\" class=\"dataframe\">\n",
       "  <thead>\n",
       "    <tr style=\"text-align: left;\">\n",
       "      <th>epoch</th>\n",
       "      <th>train_loss</th>\n",
       "      <th>valid_loss</th>\n",
       "      <th>accuracy</th>\n",
       "      <th>time</th>\n",
       "    </tr>\n",
       "  </thead>\n",
       "  <tbody>\n",
       "    <tr>\n",
       "      <td>0</td>\n",
       "      <td>1.749619</td>\n",
       "      <td>1.444476</td>\n",
       "      <td>0.526141</td>\n",
       "      <td>00:51</td>\n",
       "    </tr>\n",
       "    <tr>\n",
       "      <td>1</td>\n",
       "      <td>1.141663</td>\n",
       "      <td>0.998605</td>\n",
       "      <td>0.664848</td>\n",
       "      <td>00:52</td>\n",
       "    </tr>\n",
       "    <tr>\n",
       "      <td>2</td>\n",
       "      <td>0.915900</td>\n",
       "      <td>0.843609</td>\n",
       "      <td>0.703997</td>\n",
       "      <td>00:52</td>\n",
       "    </tr>\n",
       "    <tr>\n",
       "      <td>3</td>\n",
       "      <td>0.807525</td>\n",
       "      <td>0.773743</td>\n",
       "      <td>0.728835</td>\n",
       "      <td>00:53</td>\n",
       "    </tr>\n",
       "    <tr>\n",
       "      <td>4</td>\n",
       "      <td>0.773417</td>\n",
       "      <td>0.738951</td>\n",
       "      <td>0.735749</td>\n",
       "      <td>00:53</td>\n",
       "    </tr>\n",
       "    <tr>\n",
       "      <td>5</td>\n",
       "      <td>0.725979</td>\n",
       "      <td>0.705553</td>\n",
       "      <td>0.750752</td>\n",
       "      <td>00:53</td>\n",
       "    </tr>\n",
       "    <tr>\n",
       "      <td>6</td>\n",
       "      <td>0.693990</td>\n",
       "      <td>0.703743</td>\n",
       "      <td>0.752706</td>\n",
       "      <td>00:52</td>\n",
       "    </tr>\n",
       "    <tr>\n",
       "      <td>7</td>\n",
       "      <td>0.658255</td>\n",
       "      <td>0.679785</td>\n",
       "      <td>0.756202</td>\n",
       "      <td>00:52</td>\n",
       "    </tr>\n",
       "    <tr>\n",
       "      <td>8</td>\n",
       "      <td>0.650214</td>\n",
       "      <td>0.674251</td>\n",
       "      <td>0.761680</td>\n",
       "      <td>00:51</td>\n",
       "    </tr>\n",
       "    <tr>\n",
       "      <td>9</td>\n",
       "      <td>0.633850</td>\n",
       "      <td>0.660845</td>\n",
       "      <td>0.764958</td>\n",
       "      <td>00:55</td>\n",
       "    </tr>\n",
       "    <tr>\n",
       "      <td>10</td>\n",
       "      <td>0.613526</td>\n",
       "      <td>0.655394</td>\n",
       "      <td>0.768123</td>\n",
       "      <td>01:20</td>\n",
       "    </tr>\n",
       "    <tr>\n",
       "      <td>11</td>\n",
       "      <td>0.594435</td>\n",
       "      <td>0.653495</td>\n",
       "      <td>0.771016</td>\n",
       "      <td>00:48</td>\n",
       "    </tr>\n",
       "    <tr>\n",
       "      <td>12</td>\n",
       "      <td>0.566217</td>\n",
       "      <td>0.650858</td>\n",
       "      <td>0.770825</td>\n",
       "      <td>00:48</td>\n",
       "    </tr>\n",
       "    <tr>\n",
       "      <td>13</td>\n",
       "      <td>0.542999</td>\n",
       "      <td>0.647799</td>\n",
       "      <td>0.770715</td>\n",
       "      <td>00:49</td>\n",
       "    </tr>\n",
       "    <tr>\n",
       "      <td>14</td>\n",
       "      <td>0.527366</td>\n",
       "      <td>0.649689</td>\n",
       "      <td>0.773402</td>\n",
       "      <td>00:50</td>\n",
       "    </tr>\n",
       "    <tr>\n",
       "      <td>15</td>\n",
       "      <td>0.496811</td>\n",
       "      <td>0.652445</td>\n",
       "      <td>0.773747</td>\n",
       "      <td>00:48</td>\n",
       "    </tr>\n",
       "    <tr>\n",
       "      <td>16</td>\n",
       "      <td>0.480090</td>\n",
       "      <td>0.656642</td>\n",
       "      <td>0.774740</td>\n",
       "      <td>00:50</td>\n",
       "    </tr>\n",
       "    <tr>\n",
       "      <td>17</td>\n",
       "      <td>0.469022</td>\n",
       "      <td>0.659146</td>\n",
       "      <td>0.775027</td>\n",
       "      <td>00:50</td>\n",
       "    </tr>\n",
       "    <tr>\n",
       "      <td>18</td>\n",
       "      <td>0.473149</td>\n",
       "      <td>0.660241</td>\n",
       "      <td>0.774911</td>\n",
       "      <td>00:51</td>\n",
       "    </tr>\n",
       "    <tr>\n",
       "      <td>19</td>\n",
       "      <td>0.463508</td>\n",
       "      <td>0.660064</td>\n",
       "      <td>0.775128</td>\n",
       "      <td>00:51</td>\n",
       "    </tr>\n",
       "  </tbody>\n",
       "</table>"
      ],
      "text/plain": [
       "<IPython.core.display.HTML object>"
      ]
     },
     "metadata": {},
     "output_type": "display_data"
    }
   ],
   "source": [
    "learn.fit_one_cycle(n_epoch=20,lr_max=5e-3)"
   ]
  },
  {
   "cell_type": "code",
   "execution_count": null,
   "id": "1144cdba",
   "metadata": {},
   "outputs": [],
   "source": []
  }
 ],
 "metadata": {
  "kernelspec": {
   "display_name": "Python 3",
   "language": "python",
   "name": "python3"
  },
  "language_info": {
   "codemirror_mode": {
    "name": "ipython",
    "version": 3
   },
   "file_extension": ".py",
   "mimetype": "text/x-python",
   "name": "python",
   "nbconvert_exporter": "python",
   "pygments_lexer": "ipython3",
   "version": "3.8.8"
  }
 },
 "nbformat": 4,
 "nbformat_minor": 5
}
