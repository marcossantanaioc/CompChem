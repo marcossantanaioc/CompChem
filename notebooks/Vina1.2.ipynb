{
 "cells": [
  {
   "cell_type": "code",
   "execution_count": 1,
   "id": "501d6880",
   "metadata": {},
   "outputs": [
    {
     "name": "stdout",
     "output_type": "stream",
     "text": [
      "Author: Marcos Santana\n",
      "\n",
      "Python implementation: CPython\n",
      "Python version       : 3.8.8\n",
      "IPython version      : 7.22.0\n",
      "\n",
      "numpy : 1.20.1\n",
      "pandas: 1.2.4\n",
      "rdkit : 2021.03.5\n",
      "vina  : 1.2.2\n",
      "\n"
     ]
    }
   ],
   "source": [
    "#hide\n",
    "%reload_ext autoreload\n",
    "%autoreload 2\n",
    "%load_ext watermark\n",
    "%watermark -a 'Marcos Santana' -d -p numpy,pandas,rdkit,vina -v"
   ]
  },
  {
   "cell_type": "code",
   "execution_count": 3,
   "id": "e98f86fc",
   "metadata": {},
   "outputs": [
    {
     "name": "stderr",
     "output_type": "stream",
     "text": [
      "<frozen importlib._bootstrap>:219: RuntimeWarning: to-Python converter for boost::shared_ptr<RDKit::FilterCatalogEntry const> already registered; second conversion method ignored.\n"
     ]
    }
   ],
   "source": [
    "from rdkit.Chem.FilterCatalog import *\n",
    "from rdkit import Chem\n",
    "\n",
    "import pandas as pd\n",
    "import numpy as np\n",
    "\n",
    "from vina import Vina"
   ]
  },
  {
   "cell_type": "code",
   "execution_count": 4,
   "id": "47991595",
   "metadata": {},
   "outputs": [],
   "source": [
    "vina_docking = Vina(sf_name = 'ad4')"
   ]
  },
  {
   "cell_type": "code",
   "execution_count": null,
   "id": "66dd7e19",
   "metadata": {},
   "outputs": [],
   "source": [
    "vina_docking.set_receptor('/home/marcossantana/Mpro/receptor/6w79_prep.pdbqt')"
   ]
  },
  {
   "cell_type": "code",
   "execution_count": null,
   "id": "a10b6658",
   "metadata": {},
   "outputs": [],
   "source": [
    "vina"
   ]
  }
 ],
 "metadata": {
  "kernelspec": {
   "display_name": "Python 3",
   "language": "python",
   "name": "python3"
  },
  "language_info": {
   "codemirror_mode": {
    "name": "ipython",
    "version": 3
   },
   "file_extension": ".py",
   "mimetype": "text/x-python",
   "name": "python",
   "nbconvert_exporter": "python",
   "pygments_lexer": "ipython3",
   "version": "3.8.8"
  }
 },
 "nbformat": 4,
 "nbformat_minor": 5
}
