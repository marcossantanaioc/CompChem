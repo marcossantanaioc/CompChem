{
 "cells": [
  {
   "cell_type": "code",
   "execution_count": 3,
   "id": "b23ed61c",
   "metadata": {},
   "outputs": [],
   "source": [
    "from utils import Fingerprinter\n",
    "import unittest"
   ]
  },
  {
   "cell_type": "code",
   "execution_count": 4,
   "id": "68fb2df0",
   "metadata": {},
   "outputs": [],
   "source": [
    "smiles = ['COc1ccc(NC(=O)c2ccc(C(=N)N(C)C)cc2)c(C(=O)Nc2ccc(Cl)cn2)c1',\n",
    " 'Cc1ccc(Oc2nc(Oc3cccc(C(=N)N)c3)c(F)c(NC(C)CCc3ccccc3)c2F)c(C(=O)O)c1',\n",
    " 'N=C(N)c1ccc(CNC(=O)CN2C(=O)[C@H](NS(=O)(=O)Cc3ccccc3)CSc3ccc(N)cc32)cc1',\n",
    " 'CC(C)CNC(=O)c1ccc(-c2ccc(-c3nccs3)cc2C(=O)Nc2ccc(C(=N)N)cc2)c(C(=O)O)c1',\n",
    " 'O=C(Nc1ccc(N2CCOCC2=O)cc1)[C@H]1CCCCN1C(=O)Cc1ccc(Cl)cc1',\n",
    " 'Cn1cc(NS(=O)(=O)Cc2ccccc2)c(=O)n(CC(=O)N[C@H]2CCCN(C(=N)N)C2O)c1=O',\n",
    " 'CN(Cc1ccc(C(=O)Nc2ccc(Cl)cc2C(=O)Nc2ccc(Cl)cn2)cc1)C1=NCCS1',\n",
    " 'NC(N)=NCCC[C@@H](C=O)NC(=O)[C@@H]1CCCN1C(=O)[C@H](N)c1ccccc1',\n",
    " 'CC(C)(C)C[C@H](NC(=O)[C@@H](Cc1ccccc1)NS(=O)(=O)Cc1ccccc1)C(=O)N[C@@H](CCCN=C(N)N)C(=O)c1nccs1',\n",
    " 'CC(C)[C@H](NC(=O)[C@H](CC1CCCCC1)NC(=O)N[C@H](C)c1ccc(Br)cc1)C(=O)N[C@@H](CCCNC(=N)N)C(=O)c1nccs1',\n",
    " 'CN(C)C(=N)c1ccc(C(=O)Nc2ccc(Cl)cc2C(=O)Nc2ccc(Cl)cn2)c(N2CCCC2)c1',\n",
    " 'Cc1cc(C(=O)Nc2ccc(N3CCN(C)CC3)cc2)n(-c2ccc3cc(Cl)ccc3c2)n1',\n",
    " 'N=C(N)C1CCC[C@H](NC(=O)CN2CCC[C@H](NS(=O)(=O)CCc3ccccc3)C2=O)C1O',\n",
    " 'CCCC(CCC)C(=O)N[C@@H](CC(=O)OC)C(=O)N1CCC[C@@H]1C(=O)N[C@H]1CCCC(C(=N)N)C1O',\n",
    " 'O=C(CN1CCC[C@H](NS(=O)(=O)c2cc3cc(Cl)ccc3s2)C1=O)N1CCCC1',\n",
    " 'CN1CCc2nc(C(=O)NC3CCN(S(C)(=O)=O)CC3NC(=O)c3cc4cc(Cl)ccc4[nH]3)sc2C1',\n",
    " 'N=C(c1ccc(CN2CCN(S(=O)(=O)c3cc4ccc(Cl)cc4s3)CC2=O)cc1)N1CCCCC1',\n",
    " 'CN(C(=O)[C@@H]1Cc2ccccc2CN1C(=O)Cc1ccc(Cl)cc1Cl)c1ccc(N2CCCCC2=O)cc1',\n",
    " 'CN1CCc2nc(C(=O)N[C@@H]3C[C@@H](C(=O)N(C)C)CC[C@@H]3NC(=O)c3cc4ccc(Cl)cc4[nH]c3=O)sc2C1',\n",
    " 'O=C(NC[C@@H]1OC(=O)N2c3ccc(N4CCOCC4=O)cc3OC[C@@H]12)c1cc(Cl)c(Cl)s1']"
   ]
  },
  {
   "cell_type": "code",
   "execution_count": 5,
   "id": "d44904d4",
   "metadata": {},
   "outputs": [],
   "source": [
    "class TestFingerprinter(unittest.TestCase):\n",
    "    \n",
    "    def test_fingerprint_shape(self):\n",
    "        \n",
    "        fp_class = Fingerprinter.Fingerprinter(smiles)\n",
    "        sizes = [166, 1024, 1024, 1024]\n",
    "        for fp_type, size in list(zip(['maccs','ecfp','fcfp','atom_pairs'], sizes)):\n",
    "            print(fp_type, size)\n",
    "            x = fp_class.generate_fingerprint(gen=fp_type, nbits=size)\n",
    "\n",
    "            self.assertEqual(x.shape, (len(smiles), size))"
   ]
  },
  {
   "cell_type": "code",
   "execution_count": 6,
   "id": "994de838",
   "metadata": {},
   "outputs": [
    {
     "name": "stdout",
     "output_type": "stream",
     "text": [
      "maccs 166\n",
      "ecfp 1024\n",
      "fcfp 1024\n",
      "atom_pairs 1024\n"
     ]
    }
   ],
   "source": [
    "TestFingerprinter().test_fingerprint_shape()"
   ]
  },
  {
   "cell_type": "code",
   "execution_count": null,
   "id": "061f71b2",
   "metadata": {},
   "outputs": [],
   "source": []
  }
 ],
 "metadata": {
  "kernelspec": {
   "display_name": "Python 3",
   "language": "python",
   "name": "python3"
  },
  "language_info": {
   "codemirror_mode": {
    "name": "ipython",
    "version": 3
   },
   "file_extension": ".py",
   "mimetype": "text/x-python",
   "name": "python",
   "nbconvert_exporter": "python",
   "pygments_lexer": "ipython3",
   "version": "3.8.8"
  }
 },
 "nbformat": 4,
 "nbformat_minor": 5
}
